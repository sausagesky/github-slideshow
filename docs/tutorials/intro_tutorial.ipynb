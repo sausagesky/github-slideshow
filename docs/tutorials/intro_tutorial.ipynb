{
  "cells": [
    {
      "cell_type": "markdown",
      "metadata": {
        "id": "CjVdB34eDWlZ"
      },
      "source": [
        "# Introductory Tutorial\n",
        "\n",
        "### The Boltzmann Wealth Model"
      ]
    },
    {
      "cell_type": "markdown",
      "metadata": {
        "id": "pOicO5qoDWld"
      },
      "source": [
        "**Important:**\n",
        "- If you are just exploring Mesa and want the fastest way to execute the code we recommend executing this tutorial online in a Colab notebook. [![Colab](https://colab.research.google.com/assets/colab-badge.svg)](https://colab.research.google.com/github/projectmesa/mesa/blob/main/docs/tutorials/intro_tutorial.ipynb) or if you do not have a Google account you can use [![Binder](https://mybinder.org/badge_logo.svg)](https://mybinder.org/v2/gh/projectmesa/mesa/main?labpath=docs%2Ftutorials%2Fintro_tutorial.ipynb) (Thas can take 30 seconds to 5 minutes to load)\n",
        "- If you have installed mesa and are running locally, please ensure that your Mesa version is greater than or equal to 3.0.0b1.\n",
        "\n",
        "## Tutorial Description\n",
        "\n",
        "[Mesa](https://github.com/projectmesa/mesa) is a Python framework for [agent-based modeling](https://en.wikipedia.org/wiki/Agent-based_model). This tutorial will assist you in getting started and discover some of the core features of Mesa.  The tutorial starts with the key pieces of a model and then progressively adds functionality.\n",
        "\n",
        "Should anyone find any errors, bugs, have a suggestion, or just are looking for clarification, let us know in our [chat](https://matrix.to/#/#project-mesa:matrix.org)!\n",
        "\n",
        "The premise of this tutorial is to create a starter-level model representing agents exchanging money.\n",
        "\n",
        "The table of contents (icon on the left) shows each of the items this tutorial covers with the major sections being:\n",
        "\n",
        "- Model Description and Set Up\n",
        "- Building the Basic Model\n",
        "- Adding Space\n",
        "- Collecting Data\n",
        "- AgentSet Functionality\n",
        "- Batch Run"
      ]
    },
    {
      "cell_type": "markdown",
      "metadata": {
        "id": "TMWscdPODWle"
      },
      "source": [
        "### More Mesa\n",
        "\n",
        "If you are looking for other Mesa models or tools here are some additional resources.\n",
        "\n",
        "- Interactive Dashboard: There is a separate [visualization tutorial](https://mesa.readthedocs.io/latest/tutorials/visualization_tutorial.html) that will take users through building a dashboard for this model (aka Boltzmann Wealth Model).\n",
        "- Classic ABMs: You can also find canonical examples of ABMs written in Mesa in the [Examples Tab](https://mesa.readthedocs.io/latest/tutorials/examples.html)\n",
        "- More Examples: Want to integrate Reinforcement Learning or work on the Traveling Salesman Problem checkout  [Mesa Examples](https://github.com/projectmesa/mesa-examples/)\n",
        "- Mesa-Geo: If you need an ABM with Geographic Information Systems (GIS) checkout [Mesa-Geo](https://mesa-geo.readthedocs.io/latest/)\n",
        "- Mesa Frames: Have a large complex model that you need to speed up, check out [Mesa Frames](https://github.com/projectmesa/mesa-frames)"
      ]
    },
    {
      "cell_type": "markdown",
      "metadata": {
        "id": "D-1zO554DWle"
      },
      "source": [
        "## Model Description\n",
        "\n",
        "This is a simulated agent-based economy. In an agent-based economy, the behavior of an individual economic agent, such as a consumer or producer, is studied in a market environment.\n",
        "This model is drawn from the field econophysics, specifically a paper prepared by Drăgulescu et al. for additional information on the modeling assumptions used in this model. [Drăgulescu, 2002].\n",
        "\n",
        "The assumption that govern this model are:\n",
        "\n",
        "1. There are some number of agents.\n",
        "2. All agents begin with 1 unit of money.\n",
        "3. At every step of the model, an agent gives 1 unit of money (if they\n",
        "   have it) to some other agent.\n",
        "\n",
        "Even as a starter-level model it yields results that are both interesting and unexpected.\n",
        "\n",
        "Due to its simplicity and intrquiging results, we found ti to be a greater starter model."
      ]
    },
    {
      "cell_type": "markdown",
      "metadata": {
        "id": "sgWbBmMSDWlf"
      },
      "source": [
        "### Tutorial Setup\n",
        "\n",
        "Create and activate a [virtual environment](http://docs.python-guide.org/en/latest/dev/virtualenvs/). *Python version 3.10 or higher is required*.\n",
        "\n",
        "Install Mesa:\n",
        "\n",
        "```bash\n",
        "pip install --upgrade mesa\n",
        "```\n",
        "\n",
        "If you want to use our newest features, you can also opt to install our latest pre-release version:\n",
        "\n",
        "```bash\n",
        "pip install --upgrade --pre mesa\n",
        "```\n",
        "\n",
        "Install Jupyter notebook (optional):\n",
        "\n",
        "```bash\n",
        "pip install jupyter\n",
        "```\n",
        "\n",
        "Install [Seaborn](https://seaborn.pydata.org/) (which is used for data visualization):\n",
        "\n",
        "```bash\n",
        "pip install seaborn\n",
        "```\n",
        "\n",
        "\n",
        "**If running in Google Colab run the below cell to install Mesa.** (This will also work in a locally installed version of Jupyter.)"
      ]
    },
    {
      "cell_type": "markdown",
      "metadata": {
        "id": "trUwjGohDWlf"
      },
      "source": [
        "### CHANGE THE NEXT CELL to code if you are in Google COLAB"
      ]
    },
    {
      "cell_type": "markdown",
      "metadata": {
        "id": "OqK-sVwBDWlf"
      },
      "source": [
        "pip install --quiet --upgrade --pre mesa #installs Mesa 3.0"
      ]
    },
    {
      "cell_type": "code",
      "source": [
        "pip install --quiet --upgrade --pre mesa #installs Mesa 3.0"
      ],
      "metadata": {
        "id": "gsfgTPfPEKYZ",
        "outputId": "d50b2db3-fbaf-4594-d7e6-ff4f67db954c",
        "colab": {
          "base_uri": "https://localhost:8080/"
        }
      },
      "execution_count": 1,
      "outputs": [
        {
          "output_type": "stream",
          "name": "stdout",
          "text": [
            "\u001b[?25l   \u001b[90m━━━━━━━━━━━━━━━━━━━━━━━━━━━━━━━━━━━━━━━━\u001b[0m \u001b[32m0.0/229.4 kB\u001b[0m \u001b[31m?\u001b[0m eta \u001b[36m-:--:--\u001b[0m\r\u001b[2K   \u001b[91m━━━━━━━━━━━━━━━━━━━━━━━━━━━━━━━━━━━\u001b[0m\u001b[91m╸\u001b[0m\u001b[90m━━━━\u001b[0m \u001b[32m204.8/229.4 kB\u001b[0m \u001b[31m5.6 MB/s\u001b[0m eta \u001b[36m0:00:01\u001b[0m\r\u001b[2K   \u001b[90m━━━━━━━━━━━━━━━━━━━━━━━━━━━━━━━━━━━━━━━━\u001b[0m \u001b[32m229.4/229.4 kB\u001b[0m \u001b[31m3.2 MB/s\u001b[0m eta \u001b[36m0:00:00\u001b[0m\n",
            "\u001b[?25h"
          ]
        }
      ]
    },
    {
      "cell_type": "markdown",
      "metadata": {
        "id": "Awo_54cBDWlg"
      },
      "source": [
        "## Building the Sample Model\n",
        "\n",
        "After Mesa is installed a model can be built. A jupyter notebook is recommended for this tutorial, this allows for small segments of codes to be examined one at a time.\n",
        "\n",
        "### Creating Model With Jupyter notebook\n",
        "\n",
        "Write the model interactively in [Jupyter](http://jupyter.org/) cells.\n",
        "\n",
        "Start Jupyter:\n",
        "\n",
        "```bash\n",
        "jupyter lab\n",
        "```\n",
        "\n",
        "Create a new notebook named `money_model.ipynb` (or whatever you want to call it).\n",
        "\n",
        "### Creating Model With Script File (IDE, Text Editor, Colab, etc.)\n",
        "\n",
        "Create a new file called `money_model.py` (or whatever you want to call it)\n",
        "\n",
        "*Code will be added as the tutorial progresses.*\n",
        "\n",
        "**Good Practice:** Place a model in its own folder/directory. This is not specifically required for the starter_model, but as other models become more complicated and expand multiple python scripts, documentation, discussions and notebooks may be added."
      ]
    },
    {
      "cell_type": "markdown",
      "metadata": {
        "id": "NKk-eB07DWlg"
      },
      "source": [
        "### Import Dependencies\n",
        "This includes importing of dependencies needed for the tutorial."
      ]
    },
    {
      "cell_type": "code",
      "execution_count": 2,
      "metadata": {
        "jupyter": {
          "outputs_hidden": false
        },
        "id": "ac7xpvH2DWlg",
        "outputId": "217ac337-dac9-4bcf-9a85-689443efa057",
        "colab": {
          "base_uri": "https://localhost:8080/"
        }
      },
      "outputs": [
        {
          "output_type": "stream",
          "name": "stdout",
          "text": [
            "Could not import SolaraViz. If you need it, install with 'pip install --pre mesa[viz]'\n"
          ]
        }
      ],
      "source": [
        "import mesa\n",
        "\n",
        "# Data visualization tools.\n",
        "import seaborn as sns\n",
        "\n",
        "# Has multi-dimensional arrays and matrices. Has a large collection of\n",
        "# mathematical functions to operate on these arrays.\n",
        "import numpy as np\n",
        "\n",
        "# Data manipulation and analysis.\n",
        "import pandas as pd"
      ]
    },
    {
      "cell_type": "markdown",
      "metadata": {
        "id": "WnRwToO5DWli"
      },
      "source": [
        "### Create Agent\n",
        "\n",
        "First create the agent. As the tutorial progresses, more functionality will be added to the agent.\n",
        "\n",
        "**Background:** Agents are the individual entities that act in the model. Mesa automatically assigns each agent that is created an integer as a `unique_id.`\n",
        "\n",
        "**Model-specific information:** Agents are the individuals that exchange money, in this case the amount of money an individual agent has is represented as wealth.\n",
        "\n",
        "**Code implementation:** This is done by creating a new class (or object) that extends `mesa.Agent` creating a subclass of  the `Agent` class from mesa. The new class is named `MoneyAgent`. The inherited code of the Mesa agent object can be found in the [mesa repo](https://github.com/projectmesa/mesa/blob/main/mesa/agent.py).\n",
        "\n",
        "The `MoneyAgent` class is created with the following code:"
      ]
    },
    {
      "cell_type": "code",
      "execution_count": 3,
      "metadata": {
        "id": "WO1jlLUADWli"
      },
      "outputs": [],
      "source": [
        "class MoneyAgent(mesa.Agent):\n",
        "    \"\"\"An agent with fixed initial wealth.\"\"\"\n",
        "\n",
        "    def __init__(self, model):\n",
        "        # Pass the parameters to the parent class.\n",
        "        super().__init__(model)\n",
        "\n",
        "        # Create the agent's variable and set the initial values.\n",
        "        self.wealth = 1"
      ]
    },
    {
      "cell_type": "markdown",
      "metadata": {
        "id": "9RfFNiwWDWli"
      },
      "source": [
        "### Create Model\n",
        "\n",
        "Next, create the model. This gives us the two basic classes of any Mesa ABM - the agent class (population of agent objects that doing something) and the manager class (a model object that manages the creation, activation, datacollection etc of the agents)\n",
        "\n",
        "**Background:** The model can be visualized as a list containing all the agents. The model creates, holds and manages all the agent objects, specifically in a dictionary. The model activates agents in discrete time steps.\n",
        "\n",
        "**Model-specific information:** When a model is created the number of agents within the model is specified. The model then creates the agents and places them in an set of agents.\n",
        "\n",
        "**Code implementation:** This is done by creating a new class (or object) that extends `mesa.Model` and calls `super().__init__()`, creating a subclass of the `Model` class from mesa. The new class is named `MoneyModel`.  The technical details about the model object can be found in [model module](https://github.com/projectmesa/mesa/blob/main/mesa/model.py) and the AgentSet in the [agent module](https://github.com/projectmesa/mesa/blob/d7a3834c99a3be809abe2edc8b83610f3d4438ba/mesa/agent.py#L86). A critical point is that you can use the `seed` kwarg (keyword argument) to set a seed which controls the random number generator of the model class allowing for the reproducibility of results.\n",
        "\n",
        "The `MoneyModel` class is created with the following code:"
      ]
    },
    {
      "cell_type": "code",
      "execution_count": 4,
      "metadata": {
        "id": "tZNJgLiEDWli"
      },
      "outputs": [],
      "source": [
        "class MoneyModel(mesa.Model):\n",
        "    \"\"\"A model with some number of agents.\"\"\"\n",
        "\n",
        "    def __init__(self, n, seed=None):\n",
        "        super().__init__(seed=seed)\n",
        "        self.num_agents = n\n",
        "        # Create agents\n",
        "        for _ in range(self.num_agents):\n",
        "            a = MoneyAgent(self)"
      ]
    },
    {
      "cell_type": "markdown",
      "metadata": {
        "id": "mpKMUrQ6DWlj"
      },
      "source": [
        "### Making the Agents `do`\n",
        "\n",
        "With the basics of the Agent class and Model class created we can no activate the agents to `do` things\n",
        "\n",
        "**Background:** Mesa's `do` function calls agent functions the grow your ABM. A step is the smallest unit of time in the model, and is often referred to as a tick. The `do` function and Python functionality can be configured to activate agents in different orders. This can be important as the order in which agents are activated can impact the results of the model [Comer2014]. At each step of the model, one or more of the agents -- usually all of them -- are activated and take their own step, changing internally and/or interacting with one another or the environment. A overview of different ways to employ the `do` function for different activation regimes can be found in the [\"How To\" Guide](https://mesa.readthedocs.io/latest/howto.html).\n",
        "\n",
        "**Model-specific information:** For this section we will randomly reorder the Agent activation order using  `mesa.Agent.shuffle_do` and have the agents `step` function print the agent unique id they are assigned during the agent creation process.\n",
        "\n",
        "**Code implementation:** Using standard ABM convention we add a `step` function to the `MoneyModel` class which calls the `mesa.Agent.shuffle_do` function. We then pass into `shuffle_do` the parameter \"step\". This tells mesa to look for and execute the `step` function in our MoneyAgent class.  "
      ]
    },
    {
      "cell_type": "code",
      "execution_count": 5,
      "metadata": {
        "id": "YeizZJvvDWlj"
      },
      "outputs": [],
      "source": [
        "class MoneyAgent(mesa.Agent):\n",
        "    \"\"\"An agent with fixed initial wealth.\"\"\"\n",
        "\n",
        "    def __init__(self, model):\n",
        "        # Pass the parameters to the parent class.\n",
        "        super().__init__(model)\n",
        "\n",
        "        # Create the agent's attribute and set the initial values.\n",
        "        self.wealth = 1\n",
        "\n",
        "    def say_hi(self):\n",
        "        # The agent's step will go here.\n",
        "        # For demonstration purposes we will print the agent's unique_id\n",
        "        print(f\"Hi, I am an agent, you can call me {str(self.unique_id)}.\")\n",
        "\n",
        "\n",
        "class MoneyModel(mesa.Model):\n",
        "    \"\"\"A model with some number of agents.\"\"\"\n",
        "\n",
        "    def __init__(self, n, seed=None):\n",
        "        super().__init__(seed=seed)\n",
        "        self.num_agents = n\n",
        "\n",
        "        # Create agents\n",
        "        for _ in range(self.num_agents):\n",
        "            a = MoneyAgent(self) # This calls the agent class parameter n number of times\n",
        "\n",
        "    def step(self):\n",
        "        \"\"\"Advance the model by one step.\"\"\"\n",
        "\n",
        "        # This function psuedo-randomly reorders the list of agent objects and\n",
        "        # then iterates through calling the function passed in as the parameter\n",
        "        self.agents.shuffle_do(\"say_hi\")"
      ]
    },
    {
      "cell_type": "markdown",
      "metadata": {
        "id": "BuGdM5JsDWlj"
      },
      "source": [
        "### Running the Model\n",
        "A basic model has now been created. The model can be run by creating a model object and calling the step method. The model will run for one step and print the unique_id of each agent. You may run the model for multiple steps by calling the step method multiple times.\n",
        "\n",
        "note: If you are using `.py` (script) files instead of `.ipynb` (Jupyter), the common convention is\n",
        "to have a `run.py` in the same directory as your model code. You then (1) import the ``MoneyModel`` class,\n",
        "(2) create a model object and (3) run it for a few steps. As shown below:\n",
        "\n",
        "```python\n",
        "from money_model import MoneyModel\n",
        "\n",
        "starter_model = MoneyModel(10)\n",
        "starter_model.step()\n",
        "```\n",
        "Create the model object, and run it for one step:"
      ]
    },
    {
      "cell_type": "code",
      "execution_count": 7,
      "metadata": {
        "id": "Hrc2YyY3DWlj",
        "outputId": "d44c61d2-b1ee-4130-f300-3a2c82474094",
        "colab": {
          "base_uri": "https://localhost:8080/"
        }
      },
      "outputs": [
        {
          "output_type": "stream",
          "name": "stdout",
          "text": [
            "Hi, I am an agent, you can call me 5.\n",
            "Hi, I am an agent, you can call me 10.\n",
            "Hi, I am an agent, you can call me 6.\n",
            "Hi, I am an agent, you can call me 8.\n",
            "Hi, I am an agent, you can call me 7.\n",
            "Hi, I am an agent, you can call me 1.\n",
            "Hi, I am an agent, you can call me 4.\n",
            "Hi, I am an agent, you can call me 2.\n",
            "Hi, I am an agent, you can call me 3.\n",
            "Hi, I am an agent, you can call me 9.\n"
          ]
        }
      ],
      "source": [
        "starter_model = MoneyModel(10)\n",
        "starter_model.step()"
      ]
    },
    {
      "cell_type": "code",
      "execution_count": 9,
      "metadata": {
        "jupyter": {
          "outputs_hidden": false
        },
        "id": "G-9hHwx0DWlj",
        "outputId": "d824cfc1-e7c3-405f-91ef-e760e069cb60",
        "colab": {
          "base_uri": "https://localhost:8080/"
        }
      },
      "outputs": [
        {
          "output_type": "stream",
          "name": "stdout",
          "text": [
            "Hi, I am an agent, you can call me 7.\n",
            "Hi, I am an agent, you can call me 6.\n",
            "Hi, I am an agent, you can call me 9.\n",
            "Hi, I am an agent, you can call me 4.\n",
            "Hi, I am an agent, you can call me 5.\n",
            "Hi, I am an agent, you can call me 10.\n",
            "Hi, I am an agent, you can call me 2.\n",
            "Hi, I am an agent, you can call me 1.\n",
            "Hi, I am an agent, you can call me 3.\n",
            "Hi, I am an agent, you can call me 8.\n"
          ]
        }
      ],
      "source": [
        "# Run this step a few times and see what happens! notice the order of the agents changes each time.\n",
        "starter_model.step()"
      ]
    },
    {
      "cell_type": "code",
      "execution_count": 15,
      "metadata": {
        "id": "lkIjaq7aDWlj",
        "outputId": "f7ca2519-b9ff-4aa7-ee80-e8d3eb434491",
        "colab": {
          "base_uri": "https://localhost:8080/"
        }
      },
      "outputs": [
        {
          "output_type": "stream",
          "name": "stdout",
          "text": [
            "Hi, I am an agent, you can call me 8.\n",
            "Hi, I am an agent, you can call me 4.\n",
            "Hi, I am an agent, you can call me 3.\n",
            "Hi, I am an agent, you can call me 9.\n",
            "Hi, I am an agent, you can call me 6.\n",
            "Hi, I am an agent, you can call me 7.\n",
            "Hi, I am an agent, you can call me 10.\n",
            "Hi, I am an agent, you can call me 5.\n",
            "Hi, I am an agent, you can call me 1.\n",
            "Hi, I am an agent, you can call me 2.\n"
          ]
        }
      ],
      "source": [
        "# Challenge: Change the seed from None to a number like 42 and see the impact\n",
        "starter_model = MoneyModel(10, seed = 42)\n",
        "starter_model.step()\n"
      ]
    },
    {
      "cell_type": "code",
      "execution_count": 18,
      "metadata": {
        "id": "UclNQkKODWlj",
        "outputId": "2c9edeb5-5652-45a3-ca7c-ce0a3814736d",
        "colab": {
          "base_uri": "https://localhost:8080/"
        }
      },
      "outputs": [
        {
          "output_type": "stream",
          "name": "stdout",
          "text": [
            "Hi, I am an agent, you can call me 1.\n",
            "Hi, I am an agent, you can call me 2.\n",
            "Hi, I am an agent, you can call me 3.\n",
            "Hi, I am an agent, you can call me 4.\n",
            "Hi, I am an agent, you can call me 5.\n",
            "Hi, I am an agent, you can call me 6.\n",
            "Hi, I am an agent, you can call me 7.\n",
            "Hi, I am an agent, you can call me 8.\n",
            "Hi, I am an agent, you can call me 9.\n",
            "Hi, I am an agent, you can call me 10.\n"
          ]
        }
      ],
      "source": [
        "# Challenge: Change `shuffle_do` to just `do` and see the impact\n",
        "class MoneyModel(mesa.Model):\n",
        "    \"\"\"A model with some number of agents.\"\"\"\n",
        "\n",
        "    def __init__(self, n, seed=None):\n",
        "        super().__init__(seed=seed)\n",
        "        self.num_agents = n\n",
        "\n",
        "        # Create agents\n",
        "        for _ in range(self.num_agents):\n",
        "            a = MoneyAgent(self) # This calls the agent class parameter n number of times\n",
        "\n",
        "    def step(self):\n",
        "        \"\"\"Advance the model by one step.\"\"\"\n",
        "\n",
        "        # This function psuedo-randomly reorders the list of agent objects and\n",
        "        # then iterates through calling the function passed in as the parameter\n",
        "        self.agents.do(\"say_hi\")\n",
        "\n",
        "starter_model = MoneyModel(10)\n",
        "starter_model.step()\n"
      ]
    },
    {
      "cell_type": "markdown",
      "metadata": {
        "id": "EfhLEogSDWlk"
      },
      "source": [
        "### Exercise\n",
        "Modifying the code below to have every agent print out its `wealth` when it is activated."
      ]
    },
    {
      "cell_type": "code",
      "execution_count": 26,
      "metadata": {
        "jupyter": {
          "outputs_hidden": false
        },
        "id": "qcLAW0S5DWlk"
      },
      "outputs": [],
      "source": [
        "class MoneyAgent(mesa.Agent):\n",
        "    \"\"\"An agent with fixed initial wealth.\"\"\"\n",
        "\n",
        "    def __init__(self, model):\n",
        "        # Pass the parameters to the parent class.\n",
        "        super().__init__(model)\n",
        "\n",
        "        # Create the agent's variable and set the initial values.\n",
        "        self.wealth = 1\n",
        "\n",
        "    def say_wealth(self):\n",
        "        # The agent's step will go here.\n",
        "        # FIXME: need to print the agent's wealth\n",
        "        print(\"Hi, I am an agent and I am broke!\")\n",
        "\n",
        "# Challenge: Change `shuffle_do` to just `do` and see the impact\n",
        "class MoneyModel(mesa.Model):\n",
        "    \"\"\"A model with some number of agents.\"\"\"\n",
        "\n",
        "    def __init__(self, n, seed=None):\n",
        "        super().__init__(seed=seed)\n",
        "        self.num_agents = n\n",
        "\n",
        "        # Create agents\n",
        "        for _ in range(self.num_agents):\n",
        "            a = MoneyAgent(self) # This calls the agent class parameter n number of times\n",
        "\n",
        "    def step(self):\n",
        "        \"\"\"Advance the model by one step.\"\"\"\n",
        "\n",
        "        # This function psuedo-randomly reorders the list of agent objects and\n",
        "        # then iterates through calling the function passed in as the parameter\n",
        "        self.agents.do(\"say_hi\")\n",
        "        self.say_wealth()"
      ]
    },
    {
      "cell_type": "code",
      "source": [
        "starter_model = MoneyModel(10)\n",
        "starter_model.step()"
      ],
      "metadata": {
        "id": "viy_IXiwH_tW",
        "outputId": "640d67ec-10b7-407e-ae83-c1e30d66db6a",
        "colab": {
          "base_uri": "https://localhost:8080/",
          "height": 321
        }
      },
      "execution_count": 27,
      "outputs": [
        {
          "output_type": "error",
          "ename": "AttributeError",
          "evalue": "'MoneyAgent' object has no attribute 'say_hi'",
          "traceback": [
            "\u001b[0;31m---------------------------------------------------------------------------\u001b[0m",
            "\u001b[0;31mAttributeError\u001b[0m                            Traceback (most recent call last)",
            "\u001b[0;32m<ipython-input-27-0cc69b8353c4>\u001b[0m in \u001b[0;36m<cell line: 2>\u001b[0;34m()\u001b[0m\n\u001b[1;32m      1\u001b[0m \u001b[0mstarter_model\u001b[0m \u001b[0;34m=\u001b[0m \u001b[0mMoneyModel\u001b[0m\u001b[0;34m(\u001b[0m\u001b[0;36m10\u001b[0m\u001b[0;34m)\u001b[0m\u001b[0;34m\u001b[0m\u001b[0;34m\u001b[0m\u001b[0m\n\u001b[0;32m----> 2\u001b[0;31m \u001b[0mstarter_model\u001b[0m\u001b[0;34m.\u001b[0m\u001b[0mstep\u001b[0m\u001b[0;34m(\u001b[0m\u001b[0;34m)\u001b[0m\u001b[0;34m\u001b[0m\u001b[0;34m\u001b[0m\u001b[0m\n\u001b[0m",
            "\u001b[0;32m/usr/local/lib/python3.10/dist-packages/mesa/model.py\u001b[0m in \u001b[0;36m_wrapped_step\u001b[0;34m(self, *args, **kwargs)\u001b[0m\n\u001b[1;32m    111\u001b[0m         \u001b[0mself\u001b[0m\u001b[0;34m.\u001b[0m\u001b[0msteps\u001b[0m \u001b[0;34m+=\u001b[0m \u001b[0;36m1\u001b[0m\u001b[0;34m\u001b[0m\u001b[0;34m\u001b[0m\u001b[0m\n\u001b[1;32m    112\u001b[0m         \u001b[0;31m# Call the original user-defined step method\u001b[0m\u001b[0;34m\u001b[0m\u001b[0;34m\u001b[0m\u001b[0m\n\u001b[0;32m--> 113\u001b[0;31m         \u001b[0mself\u001b[0m\u001b[0;34m.\u001b[0m\u001b[0m_user_step\u001b[0m\u001b[0;34m(\u001b[0m\u001b[0;34m*\u001b[0m\u001b[0margs\u001b[0m\u001b[0;34m,\u001b[0m \u001b[0;34m**\u001b[0m\u001b[0mkwargs\u001b[0m\u001b[0;34m)\u001b[0m\u001b[0;34m\u001b[0m\u001b[0;34m\u001b[0m\u001b[0m\n\u001b[0m\u001b[1;32m    114\u001b[0m \u001b[0;34m\u001b[0m\u001b[0m\n\u001b[1;32m    115\u001b[0m     \u001b[0;32mdef\u001b[0m \u001b[0mnext_id\u001b[0m\u001b[0;34m(\u001b[0m\u001b[0mself\u001b[0m\u001b[0;34m)\u001b[0m \u001b[0;34m->\u001b[0m \u001b[0mint\u001b[0m\u001b[0;34m:\u001b[0m  \u001b[0;31m# noqa: D102\u001b[0m\u001b[0;34m\u001b[0m\u001b[0;34m\u001b[0m\u001b[0m\n",
            "\u001b[0;32m<ipython-input-26-cf33026d3378>\u001b[0m in \u001b[0;36mstep\u001b[0;34m(self)\u001b[0m\n\u001b[1;32m     31\u001b[0m         \u001b[0;31m# This function psuedo-randomly reorders the list of agent objects and\u001b[0m\u001b[0;34m\u001b[0m\u001b[0;34m\u001b[0m\u001b[0m\n\u001b[1;32m     32\u001b[0m         \u001b[0;31m# then iterates through calling the function passed in as the parameter\u001b[0m\u001b[0;34m\u001b[0m\u001b[0;34m\u001b[0m\u001b[0m\n\u001b[0;32m---> 33\u001b[0;31m         \u001b[0mself\u001b[0m\u001b[0;34m.\u001b[0m\u001b[0magents\u001b[0m\u001b[0;34m.\u001b[0m\u001b[0mdo\u001b[0m\u001b[0;34m(\u001b[0m\u001b[0;34m\"say_hi\"\u001b[0m\u001b[0;34m)\u001b[0m\u001b[0;34m\u001b[0m\u001b[0;34m\u001b[0m\u001b[0m\n\u001b[0m\u001b[1;32m     34\u001b[0m         \u001b[0mself\u001b[0m\u001b[0;34m.\u001b[0m\u001b[0msay_wealth\u001b[0m\u001b[0;34m(\u001b[0m\u001b[0;34m)\u001b[0m\u001b[0;34m\u001b[0m\u001b[0;34m\u001b[0m\u001b[0m\n",
            "\u001b[0;32m/usr/local/lib/python3.10/dist-packages/mesa/agent.py\u001b[0m in \u001b[0;36mdo\u001b[0;34m(self, method, *args, **kwargs)\u001b[0m\n\u001b[1;32m    276\u001b[0m             \u001b[0;32mfor\u001b[0m \u001b[0magentref\u001b[0m \u001b[0;32min\u001b[0m \u001b[0mself\u001b[0m\u001b[0;34m.\u001b[0m\u001b[0m_agents\u001b[0m\u001b[0;34m.\u001b[0m\u001b[0mkeyrefs\u001b[0m\u001b[0;34m(\u001b[0m\u001b[0;34m)\u001b[0m\u001b[0;34m:\u001b[0m\u001b[0;34m\u001b[0m\u001b[0;34m\u001b[0m\u001b[0m\n\u001b[1;32m    277\u001b[0m                 \u001b[0;32mif\u001b[0m \u001b[0;34m(\u001b[0m\u001b[0magent\u001b[0m \u001b[0;34m:=\u001b[0m \u001b[0magentref\u001b[0m\u001b[0;34m(\u001b[0m\u001b[0;34m)\u001b[0m\u001b[0;34m)\u001b[0m \u001b[0;32mis\u001b[0m \u001b[0;32mnot\u001b[0m \u001b[0;32mNone\u001b[0m\u001b[0;34m:\u001b[0m\u001b[0;34m\u001b[0m\u001b[0;34m\u001b[0m\u001b[0m\n\u001b[0;32m--> 278\u001b[0;31m                     \u001b[0mgetattr\u001b[0m\u001b[0;34m(\u001b[0m\u001b[0magent\u001b[0m\u001b[0;34m,\u001b[0m \u001b[0mmethod\u001b[0m\u001b[0;34m)\u001b[0m\u001b[0;34m(\u001b[0m\u001b[0;34m*\u001b[0m\u001b[0margs\u001b[0m\u001b[0;34m,\u001b[0m \u001b[0;34m**\u001b[0m\u001b[0mkwargs\u001b[0m\u001b[0;34m)\u001b[0m\u001b[0;34m\u001b[0m\u001b[0;34m\u001b[0m\u001b[0m\n\u001b[0m\u001b[1;32m    279\u001b[0m         \u001b[0;32melse\u001b[0m\u001b[0;34m:\u001b[0m\u001b[0;34m\u001b[0m\u001b[0;34m\u001b[0m\u001b[0m\n\u001b[1;32m    280\u001b[0m             \u001b[0;32mfor\u001b[0m \u001b[0magentref\u001b[0m \u001b[0;32min\u001b[0m \u001b[0mself\u001b[0m\u001b[0;34m.\u001b[0m\u001b[0m_agents\u001b[0m\u001b[0;34m.\u001b[0m\u001b[0mkeyrefs\u001b[0m\u001b[0;34m(\u001b[0m\u001b[0;34m)\u001b[0m\u001b[0;34m:\u001b[0m\u001b[0;34m\u001b[0m\u001b[0;34m\u001b[0m\u001b[0m\n",
            "\u001b[0;31mAttributeError\u001b[0m: 'MoneyAgent' object has no attribute 'say_hi'"
          ]
        }
      ]
    },
    {
      "cell_type": "markdown",
      "metadata": {
        "id": "g5zkoCFZDWlk"
      },
      "source": [
        "Create a model for 12 Agents, and run it for a few steps to see the output."
      ]
    },
    {
      "cell_type": "code",
      "execution_count": null,
      "metadata": {
        "jupyter": {
          "outputs_hidden": false
        },
        "id": "deRQYnQJDWlk"
      },
      "outputs": [],
      "source": [
        "# Fixme: Create the model object, and run it"
      ]
    },
    {
      "cell_type": "markdown",
      "metadata": {
        "id": "Ks31frMWDWlk"
      },
      "source": [
        "### Agents Exchange\n",
        "\n",
        "Returning back to the MoneyAgent the actual exchange process is now going to be created.\n",
        "\n",
        "**Background:** This is where the agent's behavior as it relates to each step or tick of the model is defined.\n",
        "\n",
        "**Model-specific information:** In this case, the agent will check its wealth, and if it has money, give one unit of it away to another random agent.\n",
        "\n",
        "**Code implementation:** The agent's step method is called by `mesa.Agent.shuffle_do(\"exchange\")`during each step of the model. To allow the agent to choose another agent at random, we use the `model.random` random-number generator. This works just like Python's `random` module, but if a fixed seed set is set when the model is instantiated (see earlier challenge), this allows users to replicate a specific model run later. Once we identify this other agent object we increase their wealth by 1 and decrease this agents wealth by one.\n",
        "\n",
        "This updates the step function as shown below"
      ]
    },
    {
      "cell_type": "code",
      "execution_count": 28,
      "metadata": {
        "id": "SLKxCTmfDWll"
      },
      "outputs": [],
      "source": [
        "class MoneyAgent(mesa.Agent):\n",
        "    \"\"\"An agent with fixed initial wealth.\"\"\"\n",
        "\n",
        "    def __init__(self, model):\n",
        "        # Pass the parameters to the parent class.\n",
        "        super().__init__(model)\n",
        "\n",
        "        # Create the agent's variable and set the initial values.\n",
        "        self.wealth = 1\n",
        "\n",
        "    def exchange(self):\n",
        "        # Verify agent has some wealth\n",
        "        if self.wealth > 0:\n",
        "            other_agent = self.random.choice(self.model.agents)\n",
        "            if other_agent is not None:\n",
        "                other_agent.wealth += 1\n",
        "                self.wealth -= 1\n",
        "\n",
        "class MoneyModel(mesa.Model):\n",
        "    \"\"\"A model with some number of agents.\"\"\"\n",
        "\n",
        "    def __init__(self, n):\n",
        "        super().__init__()\n",
        "        self.num_agents = n\n",
        "\n",
        "        # Create agents\n",
        "        for _ in range(self.num_agents):\n",
        "            a = MoneyAgent(self) # This calls the agent class parameter n number of times\n",
        "\n",
        "    def step(self):\n",
        "        \"\"\"Advance the model by one step.\"\"\"\n",
        "\n",
        "        # This function psuedo-randomly reorders the list of agent objects and\n",
        "        # then iterates through calling the function passed in as the parameter\n",
        "        self.agents.shuffle_do(\"exchange\")"
      ]
    },
    {
      "cell_type": "markdown",
      "metadata": {
        "id": "62AhGd6DDWll"
      },
      "source": [
        "### Running your first model\n",
        "\n",
        "With that last piece in hand, it's time for the first rudimentary run of the model.\n",
        "\n",
        "If you've written the code in its own script file (`money_model.py` or a different name) you can now modify your ``run.py`` or even launch a Jupyter notebook. You then just follow the same three steps of (1) import your model class ``MoneyModel``, (2) create the model object and (3) run it for a few steps. If you wrote the code in one notebook then step 1, importing, is not necessary.\n",
        "\n",
        "```python\n",
        "from money_model import MoneyModel\n",
        "```\n",
        "\n",
        "now let's create a model with 10 agents, and run it for 30 steps."
      ]
    },
    {
      "cell_type": "code",
      "execution_count": 29,
      "metadata": {
        "id": "kzNloEqXDWll"
      },
      "outputs": [],
      "source": [
        "model = MoneyModel(10) # Tels the model to create 10 agents\n",
        "for _ in range(30): #Runs the model for 10 steps; an underscore is common convention for a variable that is not used\n",
        "    model.step()"
      ]
    },
    {
      "cell_type": "markdown",
      "metadata": {
        "id": "aWQkfKznDWll"
      },
      "source": [
        "next, we need to get some data out of the model. Specifically, we want to see the distribution of the agent's wealth. We can get the wealth values with list comprehension, and then use seaborn (or another graphics library) to visualize the data in a histogram."
      ]
    },
    {
      "cell_type": "code",
      "execution_count": 30,
      "metadata": {
        "id": "Wc_nYgO2DWll",
        "outputId": "82c566d3-3707-4607-d76e-d00e74164389",
        "colab": {
          "base_uri": "https://localhost:8080/",
          "height": 472
        }
      },
      "outputs": [
        {
          "output_type": "display_data",
          "data": {
            "text/plain": [
              "<Figure size 640x480 with 1 Axes>"
            ],
            "image/png": "[encoded data removed]"
          },
          "metadata": {}
        }
      ],
      "source": [
        "agent_wealth = [a.wealth for a in model.agents]\n",
        "# Create a histogram with seaborn\n",
        "g = sns.histplot(agent_wealth, discrete=True)\n",
        "g.set(\n",
        "    title=\"Wealth distribution\", xlabel=\"Wealth\", ylabel=\"number of agents\"\n",
        ");  # The semicolon is just to avoid printing the object representation"
      ]
    },
    {
      "cell_type": "markdown",
      "metadata": {
        "id": "3eSfCqcCDWll"
      },
      "source": [
        "To get a better idea of how a model behaves, we can create multiple model runs and see the distribution that emerges from all of them. We can do this with a nested for loop:"
      ]
    },
    {
      "cell_type": "code",
      "execution_count": 31,
      "metadata": {
        "id": "36T-dQ-LDWll",
        "outputId": "592e9792-31ce-4869-f2f0-3d6339ec6102",
        "colab": {
          "base_uri": "https://localhost:8080/",
          "height": 472
        }
      },
      "outputs": [
        {
          "output_type": "display_data",
          "data": {
            "text/plain": [
              "<Figure size 640x480 with 1 Axes>"
            ],
            "image/png": "[encoded data removed]"
          },
          "metadata": {}
        }
      ],
      "source": [
        "all_wealth = []\n",
        "# This runs the model 100 times, each model executing 10 steps.\n",
        "for _ in range(100):\n",
        "    # Run the model\n",
        "    model = MoneyModel(10)\n",
        "    for _ in range(30):\n",
        "    # AJC this running 1000 agents\n",
        "        model.step()\n",
        "\n",
        "    # Store the results\n",
        "    for agent in model.agents:\n",
        "        all_wealth.append(agent.wealth)\n",
        "\n",
        "# Use seaborn\n",
        "g = sns.histplot(all_wealth, discrete=True)\n",
        "g.set(title=\"Wealth distribution\", xlabel=\"Wealth\", ylabel=\"number of agents\");"
      ]
    },
    {
      "cell_type": "markdown",
      "metadata": {
        "id": "9YcZ_L3FDWll"
      },
      "source": [
        "This runs 100 instantiations of the model, and runs each for 10 steps. (notice that we set the histogram bins to be integers, since agents can only have whole numbers of wealth). This distribution looks a lot smoother. By running the model 100 times, we smooth out some of the 'noise' of randomness, and get to the model's overall expected behavior.\n",
        "\n",
        "This outcome might be surprising. Despite the fact that all agents, on average, give and receive one unit of money every step, the model converges to a state where most agents have a small amount of money and a small number have a lot of money."
      ]
    },
    {
      "cell_type": "markdown",
      "metadata": {
        "id": "AignfT7NDWlm"
      },
      "source": [
        "## Adding space\n",
        "\n",
        "**Background:** Many ABMs have a spatial element, with agents moving around and interacting with nearby neighbors. Mesa has several types of [spaces](https://mesa.readthedocs.io/latest/apis/space.html) from different types of grids to networks to an in development [cell_space](https://mesa.readthedocs.io/latest/apis/experimental.html#module-experimental.cell_space.__init__). Mesa grids are divided into cells, and agents can only be on a particular cell, like pieces on a chess board. Continuous space, in contrast, allows agents to have any arbitrary position. (Think of grids vs continuous space like the difference between integers and decimals.)\n",
        "\n",
        "Both grids and continuous spaces are frequently [toroidal](https://en.wikipedia.org/wiki/Toroidal_graph), meaning that the edges wrap around, with cells on the right edge connected to those on the left edge, and the top to the bottom. This prevents some cells having fewer neighbors than others, or agents being able to go off the edge of the environment. You can envision a torous by thinking of donut.\n",
        "\n",
        "Mesa has two main types of grids: `SingleGrid` and `MultiGrid`. `SingleGrid` enforces at most one agent per cell; `MultiGrid` allows multiple agents to be in the same cell. We are going to use `MultiGrid` and then only exchange money with agents in the same cell.\n",
        "\n",
        "**Model-specific information:** Let's add a simple spatial element to our model by putting our agents on a grid and make them walk around at random. Instead of giving their unit of money to any random agent, they'll give it to an agent on the same cell. For the Money model multiple agents can be in the same spaces and since they are on a torus the agents on the left side can exchange money with agent on the right. Agents on the top can exchange with agents on the bottom.\n",
        "\n",
        "**Code Implementation:** We get a random integer within the width and height of the grid space and the use Mesa's multigrid `place_agent` function to place the agent in the specified grid location."
      ]
    },
    {
      "cell_type": "markdown",
      "metadata": {
        "id": "B-js3DYnDWlm"
      },
      "source": [
        "We instantiate a grid with width and height parameters, and a boolean as to whether the grid is toroidal. Let's make width and height model parameters, in addition to the number of agents, and have the grid always be toroidal. We can place agents on a grid with the grid's `place_agent` method, which takes an agent and an (x, y) tuple of the coordinates to place the agent."
      ]
    },
    {
      "cell_type": "code",
      "execution_count": 32,
      "metadata": {
        "id": "AXWNrB0wDWlm"
      },
      "outputs": [],
      "source": [
        "class MoneyModel(mesa.Model):\n",
        "    \"\"\"A model with some number of agents.\"\"\"\n",
        "\n",
        "    def __init__(self, n, width, height, seed=None):\n",
        "        super().__init__(seed=seed)\n",
        "        self.num_agents = n\n",
        "        self.grid = mesa.space.MultiGrid(width, height, True)\n",
        "\n",
        "        # Create agents\n",
        "        for _ in range(self.num_agents):\n",
        "            a = MoneyAgent(self)\n",
        "\n",
        "            # Add the agent to a random grid cell\n",
        "            x = self.random.randrange(self.grid.width)\n",
        "            y = self.random.randrange(self.grid.height)\n",
        "            self.grid.place_agent(a, (x, y))"
      ]
    },
    {
      "cell_type": "markdown",
      "metadata": {
        "id": "qWQ991GtDWlm"
      },
      "source": [
        "#### Moving in Mesa\n",
        "\n",
        "Under the hood, each agent's position is stored in two ways: the agent is contained in the grid in the cell it is currently in, and the agent has a `pos` variable with an (x, y) coordinate tuple. The `place_agent` method adds the coordinate to the agent automatically.\n",
        "\n",
        "Now we need to add to the agents' behaviors, letting them move around and only give money to other agents in the same cell.\n",
        "\n",
        "First let's handle movement, and have the agents move to a neighboring cell. The grid object provides a `move_agent` method, which like you'd imagine, moves an agent to a given cell. That still leaves us to get the possible neighboring cells to move to. There are a couple ways to do this. One is to use the current coordinates, and loop over all coordinates +/- 1 away from it. For example:\n",
        "\n",
        "```python\n",
        "neighbors = []\n",
        "x, y = self.pos\n",
        "for dx in [-1, 0, 1]:\n",
        "    for dy in [-1, 0, 1]:\n",
        "        neighbors.append((x+dx, y+dy))\n",
        "```\n",
        "\n",
        "But there's an even simpler way, using the grid's built-in `get_neighborhood` method, which returns all the neighbors of a given cell. This method can get two types of cell neighborhoods: [Moore](https://en.wikipedia.org/wiki/Moore_neighborhood) (includes all 8 surrounding squares), and [Von neumann](https://en.wikipedia.org/wiki/Von_neumann_neighborhood)(only up/down/left/right). It also needs an argument as to whether to include the center cell itself as one of the neighbors.\n",
        "\n",
        "With that in mind, the agent's `move` method looks like this:\n",
        "\n",
        "```python\n",
        "class MoneyAgent(mesa.Agent):\n",
        "   #...\n",
        "    def move(self):\n",
        "        possible_steps = self.model.grid.get_neighborhood(\n",
        "            self.pos,\n",
        "            moore=True,\n",
        "            include_center=False)\n",
        "        new_position = self.random.choice(possible_steps)\n",
        "        self.model.grid.move_agent(self, new_position)\n",
        "```\n",
        "\n",
        "Next, we need to get all the other agents present in a cell, and give one of them some money. We can get the contents of one or more cells using the grid's `get_cell_list_contents` method, or by accessing a cell directly. The method accepts a list of cell coordinate tuples, or a single tuple if we only care about one cell.\n",
        "\n",
        "```python\n",
        "class MoneyAgent(mesa.Agent):\n",
        "    #...\n",
        "    def give_money(self):\n",
        "        cellmates = self.model.grid.get_cell_list_contents([self.pos])\n",
        "        if len(cellmates) > 1:\n",
        "            other = self.random.choice(cellmates)\n",
        "            other.wealth += 1\n",
        "            self.wealth -= 1\n",
        "```\n",
        "\n",
        "And with those two methods, the agent's ``step`` method becomes:\n",
        "\n",
        "```python\n",
        "class MoneyAgent(mesa.Agent):\n",
        "    # ...\n",
        "    def step(self):\n",
        "        self.move()\n",
        "        if self.wealth > 0:\n",
        "            self.give_money()\n",
        "```\n",
        "\n",
        "Now, putting that all together should look like this:"
      ]
    },
    {
      "cell_type": "code",
      "execution_count": 33,
      "metadata": {
        "id": "EV6IqAUODWlm"
      },
      "outputs": [],
      "source": [
        "class MoneyAgent(mesa.Agent):\n",
        "    \"\"\"An agent with fixed initial wealth.\"\"\"\n",
        "\n",
        "    def __init__(self, model):\n",
        "        super().__init__(model)\n",
        "        self.wealth = 1\n",
        "\n",
        "    def move(self):\n",
        "        possible_steps = self.model.grid.get_neighborhood(\n",
        "            self.pos, moore=True, include_center=False\n",
        "        )\n",
        "        new_position = self.random.choice(possible_steps)\n",
        "        self.model.grid.move_agent(self, new_position)\n",
        "\n",
        "    def give_money(self):\n",
        "        cellmates = self.model.grid.get_cell_list_contents([self.pos])\n",
        "        if len(cellmates) > 1:\n",
        "            other_agent = self.random.choice(cellmates)\n",
        "            other_agent.wealth += 1\n",
        "            self.wealth -= 1\n",
        "\n",
        "    def step(self):\n",
        "        self.move()\n",
        "        if self.wealth > 0:\n",
        "            self.give_money()\n",
        "\n",
        "\n",
        "class MoneyModel(mesa.Model):\n",
        "    \"\"\"A model with some number of agents.\"\"\"\n",
        "\n",
        "    def __init__(self, n, width, height,seed=None):\n",
        "        super().__init__(seed=seed)\n",
        "        self.num_agents = n\n",
        "        self.grid = mesa.space.MultiGrid(width, height, True)\n",
        "\n",
        "        # Create agents\n",
        "        for _ in range(self.num_agents):\n",
        "            a = MoneyAgent(self)\n",
        "            # Add the agent to a random grid cell\n",
        "            x = self.random.randrange(self.grid.width)\n",
        "            y = self.random.randrange(self.grid.height)\n",
        "            self.grid.place_agent(a, (x, y))\n",
        "\n",
        "    def step(self):\n",
        "        self.agents.shuffle_do(\"step\")"
      ]
    },
    {
      "cell_type": "markdown",
      "metadata": {
        "id": "HVkd28myDWls"
      },
      "source": [
        "Let's create a model with 100 agents on a 10x10 grid, and run it for 20 steps."
      ]
    },
    {
      "cell_type": "code",
      "execution_count": 34,
      "metadata": {
        "id": "EPGcyWDkDWls"
      },
      "outputs": [],
      "source": [
        "model = MoneyModel(100, 10, 10)\n",
        "for _ in range(20):\n",
        "    model.step()"
      ]
    },
    {
      "cell_type": "markdown",
      "metadata": {
        "id": "E1hgZ-LcDWls"
      },
      "source": [
        "now let's use seaborn and numpy to visualize the number of agents residing in each cell. To do that, we create a numpy array of the same size as the grid, filled with zeros. Then we use the grid object's `coord_iter()` feature, which lets us loop over every cell in the grid, giving us each cell's positions and contents in turn."
      ]
    },
    {
      "cell_type": "code",
      "execution_count": 49,
      "metadata": {
        "id": "C5FLCIVQDWls",
        "outputId": "599c0abf-1f1a-4f01-b353-ad729eed61b3",
        "colab": {
          "base_uri": "https://localhost:8080/",
          "height": 468
        }
      },
      "outputs": [
        {
          "output_type": "display_data",
          "data": {
            "text/plain": [
              "<Figure size 500x500 with 1 Axes>"
            ],
            "image/png": "[encoded data removed]"
          },
          "metadata": {}
        }
      ],
      "source": [
        "agent_counts = np.zeros((model.grid.width, model.grid.height))\n",
        "for cell_content, (x, y) in model.grid.coord_iter():\n",
        "    agent_count = len(cell_content)\n",
        "    agent_counts[x][y] = agent_count\n",
        "# Plot using seaborn, with a visual size of 5x5\n",
        "g = sns.heatmap(agent_counts, cmap=\"viridis\", annot=True, cbar=False, square=True)\n",
        "g.figure.set_size_inches(5, 5)\n",
        "g.set(title=\"number of agents on each cell of the grid\");"
      ]
    },
    {
      "cell_type": "code",
      "execution_count": 48,
      "metadata": {
        "id": "1h2mS0nEDWls"
      },
      "outputs": [],
      "source": [
        "# Challenge: Change the size of the grid\n",
        "model = MoneyModel(100, 13, 13)\n",
        "for _ in range(20):\n",
        "    model.step()"
      ]
    },
    {
      "cell_type": "code",
      "execution_count": 47,
      "metadata": {
        "id": "kBFCPgCYDWlt"
      },
      "outputs": [],
      "source": [
        "# Challenge: Change from multigrid to grid (only one agent per cell)\n",
        "class MoneyModel(mesa.Model):\n",
        "    \"\"\"A model with some number of agents.\"\"\"\n",
        "\n",
        "    def __init__(self, n, width, height,seed=None):\n",
        "        super().__init__(seed=seed)\n",
        "        self.num_agents = n\n",
        "        self.grid = mesa.space.MultiGrid(width, height, True)\n",
        "\n",
        "        # Create agents\n",
        "        for _ in range(self.num_agents):\n",
        "            a = MoneyAgent(self)\n",
        "            # Add the agent to a random grid cell\n",
        "            x = self.random.randrange(self.grid.width)\n",
        "            y = self.random.randrange(self.grid.height)\n",
        "            self.grid.place_agent(a, (x, y))\n",
        "\n",
        "    def step(self):\n",
        "        self.agents.shuffle_do(\"step\")"
      ]
    },
    {
      "cell_type": "markdown",
      "metadata": {
        "id": "YgLjtMBoDWlt"
      },
      "source": [
        "## Collecting Data\n",
        "\n",
        "**Background:** So far, at the end of every model run, we've had to go and write our own code to get the data out of the model. This has two problems: it isn't very efficient, and it only gives us end results. If we wanted to know the wealth of each agent at each step, we'd have to add that to the loop of executing steps, and figure out some way to store the data.\n",
        "\n",
        "Since one of the main goals of agent-based modeling is generating data for analysis, Mesa provides a class which can handle data collection and storage for us and make it easier to analyze.\n",
        "\n",
        "The data collector stores three categories of data:\n",
        " - Model-level variables : Model-level collection functions take a model object as an input. Such as a function that computes a dynamic of the whole model (in this case we will compute a measure of wealth inequality based on all agents wealth)\n",
        " - Agent-level variables: Agent-level collection functions take an agent object as an input and is typically the state of an agent attributes, in this case wealth.\n",
        " - Tables (which are a catch-all for everything else).\n",
        "\n",
        "**Model-specific information:** We will collect two variables to show Mesa capabilities. At the model level, let's measure the model's [Gini Coefficient](https://en.wikipedia.org/wiki/Gini_coefficient), a measure of wealth inequality. At the agent level, we want to collect every agent's wealth at every step.\n",
        "\n",
        "**Code implementation:**\n",
        "Let's add a DataCollector to the model with [`mesa.DataCollector`](https://github.com/projectmesa/mesa/blob/main/mesa/datacollection.py), and collect the agents wealth and the gini coefficient at each time step."
      ]
    },
    {
      "cell_type": "code",
      "execution_count": 60,
      "metadata": {
        "id": "HndoNdkhDWlt"
      },
      "outputs": [],
      "source": [
        "def compute_gini(model):\n",
        "    agent_wealths = [agent.wealth for agent in model.agents]\n",
        "    x = sorted(agent_wealths)\n",
        "    n = model.num_agents\n",
        "    B = sum(xi * (n - i) for i, xi in enumerate(x)) / (n * sum(x))\n",
        "    return 1 + (1 / n) - 2 * B\n",
        "\n",
        "\n",
        "class MoneyAgent(mesa.Agent):\n",
        "    \"\"\"An agent with fixed initial wealth.\"\"\"\n",
        "\n",
        "    def __init__(self, model):\n",
        "        super().__init__(model)\n",
        "        self.wealth = 1\n",
        "\n",
        "    def move(self):\n",
        "        possible_steps = self.model.grid.get_neighborhood(\n",
        "            self.pos, moore=True, include_center=False\n",
        "        )\n",
        "        new_position = self.random.choice(possible_steps)\n",
        "        self.model.grid.move_agent(self, new_position)\n",
        "\n",
        "    def give_money(self):\n",
        "        cellmates = self.model.grid.get_cell_list_contents([self.pos])\n",
        "        cellmates.pop(\n",
        "            cellmates.index(self)\n",
        "        )  # Ensure agent is not giving money to itself\n",
        "        if len(cellmates) > 1:\n",
        "            other = self.random.choice(cellmates)\n",
        "            other.wealth += 1\n",
        "            self.wealth -= 1\n",
        "            if other == self:\n",
        "                print(\"I JUST GAVE MOnEY TO MYSELF HEHEHE!\")\n",
        "\n",
        "    def step(self):\n",
        "        self.move()\n",
        "        if self.wealth > 0:\n",
        "            self.give_money()\n",
        "\n",
        "\n",
        "class MoneyModel(mesa.Model):\n",
        "    \"\"\"A model with some number of agents.\"\"\"\n",
        "\n",
        "    def __init__(self, n, width, height):\n",
        "        super().__init__()\n",
        "        self.num_agents = n\n",
        "        self.grid = mesa.space.MultiGrid(width, height, True)\n",
        "\n",
        "        # Create agents\n",
        "        for _ in range(self.num_agents):\n",
        "            a = MoneyAgent(self)\n",
        "            # Add the agent to a random grid cell\n",
        "            x = self.random.randrange(self.grid.width)\n",
        "            y = self.random.randrange(self.grid.height)\n",
        "            self.grid.place_agent(a, (x, y))\n",
        "\n",
        "        self.datacollector = mesa.DataCollector(\n",
        "            model_reporters={\"Gini\": compute_gini}, agent_reporters={\"Wealth\": \"wealth\"}\n",
        "        )\n",
        "\n",
        "    def step(self):\n",
        "        self.datacollector.collect(self)\n",
        "        self.agents.shuffle_do(\"step\")"
      ]
    },
    {
      "cell_type": "markdown",
      "metadata": {
        "id": "IL4JY0okDWlt"
      },
      "source": [
        "At every step of the model, the datacollector will collect and store the model-level current Gini coefficient, as well as each agent's wealth, associating each with the current step.\n",
        "\n",
        "We run the model just as we did above. now is when an interactive session, especially via a notebook, comes in handy: the DataCollector can export the data its collected as a pandas* DataFrame, for easy interactive analysis.\n",
        "\n",
        "*If you are new to Python, please be aware that pandas is already installed as a dependency of Mesa and that [pandas](https://pandas.pydata.org/docs/) is a \"fast, powerful, flexible and easy to use open source data analysis and manipulation tool\". pandas is great resource to help analyze the data collected in your models."
      ]
    },
    {
      "cell_type": "code",
      "execution_count": 61,
      "metadata": {
        "id": "YCMJTE7ODWlt"
      },
      "outputs": [],
      "source": [
        "model = MoneyModel(100, 10, 10)\n",
        "for _ in range(100):\n",
        "    model.step()"
      ]
    },
    {
      "cell_type": "markdown",
      "metadata": {
        "id": "dESRWuZVDWlu"
      },
      "source": [
        "To get the series of Gini coefficients as a pandas DataFrame:"
      ]
    },
    {
      "cell_type": "markdown",
      "metadata": {
        "id": "4K7XdMRLDWlu"
      },
      "source": [
        "### Visualizing a Model Data"
      ]
    },
    {
      "cell_type": "code",
      "execution_count": 62,
      "metadata": {
        "id": "fkgP3csUDWlu",
        "outputId": "722dfe2f-3a39-441c-bfc2-557ab1278c62",
        "colab": {
          "base_uri": "https://localhost:8080/",
          "height": 452
        }
      },
      "outputs": [
        {
          "output_type": "display_data",
          "data": {
            "text/plain": [
              "<Figure size 640x480 with 1 Axes>"
            ],
            "image/png": "[encoded data removed]"
          },
          "metadata": {}
        }
      ],
      "source": [
        "gini = model.datacollector.get_model_vars_dataframe()\n",
        "# Plot the Gini coefficient over time\n",
        "g = sns.lineplot(data=gini)\n",
        "g.set(title=\"Gini Coefficient over Time\", ylabel=\"Gini Coefficient\");"
      ]
    },
    {
      "cell_type": "markdown",
      "metadata": {
        "id": "oJZ7uoylDWlu"
      },
      "source": [
        "### Visualizing an Agent Data"
      ]
    },
    {
      "cell_type": "markdown",
      "metadata": {
        "id": "T_exKeQuDWlu"
      },
      "source": [
        "Similarly, we can get the agent-wealth data:"
      ]
    },
    {
      "cell_type": "code",
      "execution_count": 63,
      "metadata": {
        "id": "ao4424e4DWlu",
        "outputId": "be80f854-eb3a-4a26-dd13-d9e1bc1474b5",
        "colab": {
          "base_uri": "https://localhost:8080/",
          "height": 237
        }
      },
      "outputs": [
        {
          "output_type": "execute_result",
          "data": {
            "text/plain": [
              "              Wealth\n",
              "Step AgentID        \n",
              "1    1             1\n",
              "     2             1\n",
              "     3             1\n",
              "     4             1\n",
              "     5             1"
            ],
            "text/html": [
              "\n",
              "  <div id=\"df-f4e2c907-2745-455d-acfa-b9426b32a9a6\" class=\"colab-df-container\">\n",
              "    <div>\n",
              "<style scoped>\n",
              "    .dataframe tbody tr th:only-of-type {\n",
              "        vertical-align: middle;\n",
              "    }\n",
              "\n",
              "    .dataframe tbody tr th {\n",
              "        vertical-align: top;\n",
              "    }\n",
              "\n",
              "    .dataframe thead th {\n",
              "        text-align: right;\n",
              "    }\n",
              "</style>\n",
              "<table border=\"1\" class=\"dataframe\">\n",
              "  <thead>\n",
              "    <tr style=\"text-align: right;\">\n",
              "      <th></th>\n",
              "      <th></th>\n",
              "      <th>Wealth</th>\n",
              "    </tr>\n",
              "    <tr>\n",
              "      <th>Step</th>\n",
              "      <th>AgentID</th>\n",
              "      <th></th>\n",
              "    </tr>\n",
              "  </thead>\n",
              "  <tbody>\n",
              "    <tr>\n",
              "      <th rowspan=\"5\" valign=\"top\">1</th>\n",
              "      <th>1</th>\n",
              "      <td>1</td>\n",
              "    </tr>\n",
              "    <tr>\n",
              "      <th>2</th>\n",
              "      <td>1</td>\n",
              "    </tr>\n",
              "    <tr>\n",
              "      <th>3</th>\n",
              "      <td>1</td>\n",
              "    </tr>\n",
              "    <tr>\n",
              "      <th>4</th>\n",
              "      <td>1</td>\n",
              "    </tr>\n",
              "    <tr>\n",
              "      <th>5</th>\n",
              "      <td>1</td>\n",
              "    </tr>\n",
              "  </tbody>\n",
              "</table>\n",
              "</div>\n",
              "    <div class=\"colab-df-buttons\">\n",
              "\n",
              "  <div class=\"colab-df-container\">\n",
              "    <button class=\"colab-df-convert\" onclick=\"convertToInteractive('df-f4e2c907-2745-455d-acfa-b9426b32a9a6')\"\n",
              "            title=\"Convert this dataframe to an interactive table.\"\n",
              "            style=\"display:none;\">\n",
              "\n",
              "  <svg xmlns=\"http://www.w3.org/2000/svg\" height=\"24px\" viewBox=\"0 -960 960 960\">\n",
              "    <path d=\"M120-120v-720h720v720H120Zm60-500h600v-160H180v160Zm220 220h160v-160H400v160Zm0 220h160v-160H400v160ZM180-400h160v-160H180v160Zm440 0h160v-160H620v160ZM180-180h160v-160H180v160Zm440 0h160v-160H620v160Z\"/>\n",
              "  </svg>\n",
              "    </button>\n",
              "\n",
              "  <style>\n",
              "    .colab-df-container {\n",
              "      display:flex;\n",
              "      gap: 12px;\n",
              "    }\n",
              "\n",
              "    .colab-df-convert {\n",
              "      background-color: #E8F0FE;\n",
              "      border: none;\n",
              "      border-radius: 50%;\n",
              "      cursor: pointer;\n",
              "      display: none;\n",
              "      fill: #1967D2;\n",
              "      height: 32px;\n",
              "      padding: 0 0 0 0;\n",
              "      width: 32px;\n",
              "    }\n",
              "\n",
              "    .colab-df-convert:hover {\n",
              "      background-color: #E2EBFA;\n",
              "      box-shadow: 0px 1px 2px rgba(60, 64, 67, 0.3), 0px 1px 3px 1px rgba(60, 64, 67, 0.15);\n",
              "      fill: #174EA6;\n",
              "    }\n",
              "\n",
              "    .colab-df-buttons div {\n",
              "      margin-bottom: 4px;\n",
              "    }\n",
              "\n",
              "    [theme=dark] .colab-df-convert {\n",
              "      background-color: #3B4455;\n",
              "      fill: #D2E3FC;\n",
              "    }\n",
              "\n",
              "    [theme=dark] .colab-df-convert:hover {\n",
              "      background-color: #434B5C;\n",
              "      box-shadow: 0px 1px 3px 1px rgba(0, 0, 0, 0.15);\n",
              "      filter: drop-shadow(0px 1px 2px rgba(0, 0, 0, 0.3));\n",
              "      fill: #FFFFFF;\n",
              "    }\n",
              "  </style>\n",
              "\n",
              "    <script>\n",
              "      const buttonEl =\n",
              "        document.querySelector('#df-f4e2c907-2745-455d-acfa-b9426b32a9a6 button.colab-df-convert');\n",
              "      buttonEl.style.display =\n",
              "        google.colab.kernel.accessAllowed ? 'block' : 'none';\n",
              "\n",
              "      async function convertToInteractive(key) {\n",
              "        const element = document.querySelector('#df-f4e2c907-2745-455d-acfa-b9426b32a9a6');\n",
              "        const dataTable =\n",
              "          await google.colab.kernel.invokeFunction('convertToInteractive',\n",
              "                                                    [key], {});\n",
              "        if (!dataTable) return;\n",
              "\n",
              "        const docLinkHtml = 'Like what you see? Visit the ' +\n",
              "          '<a target=\"_blank\" href=https://colab.research.google.com/notebooks/data_table.ipynb>data table notebook</a>'\n",
              "          + ' to learn more about interactive tables.';\n",
              "        element.innerHTML = '';\n",
              "        dataTable['output_type'] = 'display_data';\n",
              "        await google.colab.output.renderOutput(dataTable, element);\n",
              "        const docLink = document.createElement('div');\n",
              "        docLink.innerHTML = docLinkHtml;\n",
              "        element.appendChild(docLink);\n",
              "      }\n",
              "    </script>\n",
              "  </div>\n",
              "\n",
              "\n",
              "<div id=\"df-7144f519-ce44-4e78-a9c5-176bf9820f5b\">\n",
              "  <button class=\"colab-df-quickchart\" onclick=\"quickchart('df-7144f519-ce44-4e78-a9c5-176bf9820f5b')\"\n",
              "            title=\"Suggest charts\"\n",
              "            style=\"display:none;\">\n",
              "\n",
              "<svg xmlns=\"http://www.w3.org/2000/svg\" height=\"24px\"viewBox=\"0 0 24 24\"\n",
              "     width=\"24px\">\n",
              "    <g>\n",
              "        <path d=\"M19 3H5c-1.1 0-2 .9-2 2v14c0 1.1.9 2 2 2h14c1.1 0 2-.9 2-2V5c0-1.1-.9-2-2-2zM9 17H7v-7h2v7zm4 0h-2V7h2v10zm4 0h-2v-4h2v4z\"/>\n",
              "    </g>\n",
              "</svg>\n",
              "  </button>\n",
              "\n",
              "<style>\n",
              "  .colab-df-quickchart {\n",
              "      --bg-color: #E8F0FE;\n",
              "      --fill-color: #1967D2;\n",
              "      --hover-bg-color: #E2EBFA;\n",
              "      --hover-fill-color: #174EA6;\n",
              "      --disabled-fill-color: #AAA;\n",
              "      --disabled-bg-color: #DDD;\n",
              "  }\n",
              "\n",
              "  [theme=dark] .colab-df-quickchart {\n",
              "      --bg-color: #3B4455;\n",
              "      --fill-color: #D2E3FC;\n",
              "      --hover-bg-color: #434B5C;\n",
              "      --hover-fill-color: #FFFFFF;\n",
              "      --disabled-bg-color: #3B4455;\n",
              "      --disabled-fill-color: #666;\n",
              "  }\n",
              "\n",
              "  .colab-df-quickchart {\n",
              "    background-color: var(--bg-color);\n",
              "    border: none;\n",
              "    border-radius: 50%;\n",
              "    cursor: pointer;\n",
              "    display: none;\n",
              "    fill: var(--fill-color);\n",
              "    height: 32px;\n",
              "    padding: 0;\n",
              "    width: 32px;\n",
              "  }\n",
              "\n",
              "  .colab-df-quickchart:hover {\n",
              "    background-color: var(--hover-bg-color);\n",
              "    box-shadow: 0 1px 2px rgba(60, 64, 67, 0.3), 0 1px 3px 1px rgba(60, 64, 67, 0.15);\n",
              "    fill: var(--button-hover-fill-color);\n",
              "  }\n",
              "\n",
              "  .colab-df-quickchart-complete:disabled,\n",
              "  .colab-df-quickchart-complete:disabled:hover {\n",
              "    background-color: var(--disabled-bg-color);\n",
              "    fill: var(--disabled-fill-color);\n",
              "    box-shadow: none;\n",
              "  }\n",
              "\n",
              "  .colab-df-spinner {\n",
              "    border: 2px solid var(--fill-color);\n",
              "    border-color: transparent;\n",
              "    border-bottom-color: var(--fill-color);\n",
              "    animation:\n",
              "      spin 1s steps(1) infinite;\n",
              "  }\n",
              "\n",
              "  @keyframes spin {\n",
              "    0% {\n",
              "      border-color: transparent;\n",
              "      border-bottom-color: var(--fill-color);\n",
              "      border-left-color: var(--fill-color);\n",
              "    }\n",
              "    20% {\n",
              "      border-color: transparent;\n",
              "      border-left-color: var(--fill-color);\n",
              "      border-top-color: var(--fill-color);\n",
              "    }\n",
              "    30% {\n",
              "      border-color: transparent;\n",
              "      border-left-color: var(--fill-color);\n",
              "      border-top-color: var(--fill-color);\n",
              "      border-right-color: var(--fill-color);\n",
              "    }\n",
              "    40% {\n",
              "      border-color: transparent;\n",
              "      border-right-color: var(--fill-color);\n",
              "      border-top-color: var(--fill-color);\n",
              "    }\n",
              "    60% {\n",
              "      border-color: transparent;\n",
              "      border-right-color: var(--fill-color);\n",
              "    }\n",
              "    80% {\n",
              "      border-color: transparent;\n",
              "      border-right-color: var(--fill-color);\n",
              "      border-bottom-color: var(--fill-color);\n",
              "    }\n",
              "    90% {\n",
              "      border-color: transparent;\n",
              "      border-bottom-color: var(--fill-color);\n",
              "    }\n",
              "  }\n",
              "</style>\n",
              "\n",
              "  <script>\n",
              "    async function quickchart(key) {\n",
              "      const quickchartButtonEl =\n",
              "        document.querySelector('#' + key + ' button');\n",
              "      quickchartButtonEl.disabled = true;  // To prevent multiple clicks.\n",
              "      quickchartButtonEl.classList.add('colab-df-spinner');\n",
              "      try {\n",
              "        const charts = await google.colab.kernel.invokeFunction(\n",
              "            'suggestCharts', [key], {});\n",
              "      } catch (error) {\n",
              "        console.error('Error during call to suggestCharts:', error);\n",
              "      }\n",
              "      quickchartButtonEl.classList.remove('colab-df-spinner');\n",
              "      quickchartButtonEl.classList.add('colab-df-quickchart-complete');\n",
              "    }\n",
              "    (() => {\n",
              "      let quickchartButtonEl =\n",
              "        document.querySelector('#df-7144f519-ce44-4e78-a9c5-176bf9820f5b button');\n",
              "      quickchartButtonEl.style.display =\n",
              "        google.colab.kernel.accessAllowed ? 'block' : 'none';\n",
              "    })();\n",
              "  </script>\n",
              "</div>\n",
              "\n",
              "    </div>\n",
              "  </div>\n"
            ],
            "application/vnd.google.colaboratory.intrinsic+json": {
              "type": "dataframe",
              "variable_name": "agent_wealth",
              "summary": "{\n  \"name\": \"agent_wealth\",\n  \"rows\": 10000,\n  \"fields\": [\n    {\n      \"column\": \"Wealth\",\n      \"properties\": {\n        \"dtype\": \"number\",\n        \"std\": 1,\n        \"min\": 0,\n        \"max\": 11,\n        \"num_unique_values\": 12,\n        \"samples\": [\n          11,\n          9,\n          1\n        ],\n        \"semantic_type\": \"\",\n        \"description\": \"\"\n      }\n    }\n  ]\n}"
            }
          },
          "metadata": {},
          "execution_count": 63
        }
      ],
      "source": [
        "agent_wealth = model.datacollector.get_agent_vars_dataframe()\n",
        "agent_wealth.head()"
      ]
    },
    {
      "cell_type": "markdown",
      "metadata": {
        "id": "SC32SQRXDWlv"
      },
      "source": [
        "You'll see that the DataFrame's index is pairings of model step and agent ID. This is because the data collector stores the data in a dictionary, with the step number as the key, and a dictionary of agent ID and variable value pairs as the value. The data collector then converts this dictionary into a DataFrame, which is why the index is a pair of (model step, agent ID). You can analyze it the way you would any other DataFrame. For example, to get a histogram of agent wealth at the model's end:"
      ]
    },
    {
      "cell_type": "code",
      "execution_count": 64,
      "metadata": {
        "id": "Ii00oYE2DWlv",
        "outputId": "214b61ea-6d97-4566-af12-1e8833f105d4",
        "colab": {
          "base_uri": "https://localhost:8080/",
          "height": 472
        }
      },
      "outputs": [
        {
          "output_type": "display_data",
          "data": {
            "text/plain": [
              "<Figure size 640x480 with 1 Axes>"
            ],
            "image/png": "[encoded data removed]"
          },
          "metadata": {}
        }
      ],
      "source": [
        "last_step = agent_wealth.index.get_level_values(\"Step\").max()\n",
        "end_wealth = agent_wealth.xs(last_step, level=\"Step\")[\"Wealth\"]\n",
        "# Create a histogram of wealth at the last step\n",
        "g = sns.histplot(end_wealth, discrete=True)\n",
        "g.set(\n",
        "    title=\"Distribution of wealth at the end of simulation\",\n",
        "    xlabel=\"Wealth\",\n",
        "    ylabel=\"number of agents\",\n",
        ");"
      ]
    },
    {
      "cell_type": "markdown",
      "metadata": {
        "id": "uhXTLB9qDWlw"
      },
      "source": [
        "Or to plot the wealth of a given agent (in this example, agent 7):"
      ]
    },
    {
      "cell_type": "code",
      "execution_count": 65,
      "metadata": {
        "id": "bTY1ti8SDWlx",
        "outputId": "6455dda8-76da-47c8-998e-cd9e54958bda",
        "colab": {
          "base_uri": "https://localhost:8080/",
          "height": 472
        }
      },
      "outputs": [
        {
          "output_type": "display_data",
          "data": {
            "text/plain": [
              "<Figure size 640x480 with 1 Axes>"
            ],
            "image/png": "[encoded data removed]"
          },
          "metadata": {}
        }
      ],
      "source": [
        "# Get the wealth of agent 14 over time\n",
        "one_agent_wealth = agent_wealth.xs(7, level=\"AgentID\")\n",
        "\n",
        "# Plot the wealth of agent 7 over time\n",
        "g = sns.lineplot(data=one_agent_wealth, x=\"Step\", y=\"Wealth\")\n",
        "g.set(title=\"Wealth of agent 7 over time\");"
      ]
    },
    {
      "cell_type": "markdown",
      "metadata": {
        "id": "JVKZeLr0DWlx"
      },
      "source": [
        "You can also plot a reporter of multiple agents over time."
      ]
    },
    {
      "cell_type": "code",
      "execution_count": 66,
      "metadata": {
        "id": "Zl_9-vMbDWlx",
        "outputId": "34e18bdd-6c7f-4f4f-d9c3-0e9084094325",
        "colab": {
          "base_uri": "https://localhost:8080/",
          "height": 472
        }
      },
      "outputs": [
        {
          "output_type": "display_data",
          "data": {
            "text/plain": [
              "<Figure size 640x480 with 1 Axes>"
            ],
            "image/png": "[encoded data removed]"
          },
          "metadata": {}
        }
      ],
      "source": [
        "agent_list = [3, 14, 25]\n",
        "\n",
        "# Get the wealth of multiple agents over time\n",
        "multiple_agents_wealth = agent_wealth[\n",
        "    agent_wealth.index.get_level_values(\"AgentID\").isin(agent_list)\n",
        "]\n",
        "# Plot the wealth of multiple agents over time\n",
        "g = sns.lineplot(data=multiple_agents_wealth, x=\"Step\", y=\"Wealth\", hue=\"AgentID\")\n",
        "g.set(title=\"Wealth of agents 3, 14 and 25 over time\");"
      ]
    },
    {
      "cell_type": "markdown",
      "metadata": {
        "id": "bObbCoaqDWlx"
      },
      "source": [
        "We can also plot the average of all agents, with a 95% confidence interval for that average."
      ]
    },
    {
      "cell_type": "code",
      "execution_count": 67,
      "metadata": {
        "id": "2jlLeXJJDWlx",
        "outputId": "daaa1d46-9140-4d7f-8547-ba2cbaff52cf",
        "colab": {
          "base_uri": "https://localhost:8080/",
          "height": 489
        }
      },
      "outputs": [
        {
          "output_type": "execute_result",
          "data": {
            "text/plain": [
              "[Text(0.5, 1.0, 'Average wealth over time')]"
            ]
          },
          "metadata": {},
          "execution_count": 67
        },
        {
          "output_type": "display_data",
          "data": {
            "text/plain": [
              "<Figure size 640x480 with 1 Axes>"
            ],
            "image/png": "[encoded data removed]"
          },
          "metadata": {}
        }
      ],
      "source": [
        "# Transform the data to a long format\n",
        "agent_wealth_long = agent_wealth.T.unstack().reset_index()\n",
        "agent_wealth_long.columns = [\"Step\", \"AgentID\", \"Variable\", \"Value\"]\n",
        "agent_wealth_long.head(3)\n",
        "\n",
        "# Plot the average wealth over time\n",
        "g = sns.lineplot(data=agent_wealth_long, x=\"Step\", y=\"Value\", errorbar=(\"ci\", 95))\n",
        "g.set(title=\"Average wealth over time\")"
      ]
    },
    {
      "cell_type": "markdown",
      "metadata": {
        "id": "9u-3Phu-DWly"
      },
      "source": [
        "Which is exactly 1, as expected in this model, since each agent starts with one wealth unit, and each agent gives one wealth unit to another agent at each step."
      ]
    },
    {
      "cell_type": "markdown",
      "metadata": {
        "id": "Ex-Zd7NVDWly"
      },
      "source": [
        "You can also use pandas to export the data to a CSV (comma separated value), which can be opened by any common spreadsheet application or opened by pandas.\n",
        "\n",
        "If you do not specify a file path, the file will be saved in the local directory. After you run the code below you will see two files appear (*model_data.csv* and *agent_data.csv*)"
      ]
    },
    {
      "cell_type": "code",
      "execution_count": 68,
      "metadata": {
        "id": "9KrkKBJqDWly"
      },
      "outputs": [],
      "source": [
        "# save the model data (stored in the pandas gini object) to CSV\n",
        "gini.to_csv(\"model_data.csv\")\n",
        "\n",
        "# save the agent data (stored in the pandas agent_wealth object) to CSV\n",
        "agent_wealth.to_csv(\"agent_data.csv\")"
      ]
    },
    {
      "cell_type": "markdown",
      "metadata": {
        "id": "DClPanZEDWly"
      },
      "source": [
        "## AgentSet Functionality\n",
        "\n",
        "**Background:** With Mesa's AgentSet approach users can also [manage agents](https://mesa.readthedocs.io/latest/overview.html#agentset-and-model-agents) in several ways.\n",
        "\n",
        "**Model-specific information:** We will show three agent management techniques just to demonstrate the capability\n",
        "1. **Applying Methods** We will shuffle the agents and move them and then have them exchange money without reordering them\n",
        "2. **Selecting** We will institute a policy that has the rich agents give money to the  poor agents\n",
        "3. **GroupBy** We will group agents together based on wealth"
      ]
    },
    {
      "cell_type": "markdown",
      "metadata": {
        "id": "mB7vrlqcDWly"
      },
      "source": [
        "### Applying Methods\n",
        "\n",
        "**Code Implementation** In this variation we accomplish the same process using the AgentSet features. We remove the step function entirely, shuffle the agent order have them execute the `move` function. Then we have them execute the `give_money` function to get a similar result as we saw in the Adding Space Section."
      ]
    },
    {
      "cell_type": "code",
      "execution_count": 69,
      "metadata": {
        "id": "Av37aBvZDWly"
      },
      "outputs": [],
      "source": [
        "class MoneyAgent(mesa.Agent):\n",
        "    \"\"\"An agent with fixed initial wealth.\"\"\"\n",
        "\n",
        "    def __init__(self, model):\n",
        "        super().__init__(model)\n",
        "        self.wealth = 1\n",
        "\n",
        "    def move(self):\n",
        "        possible_steps = self.model.grid.get_neighborhood(\n",
        "            self.pos, moore=True, include_center=False\n",
        "        )\n",
        "        new_position = self.random.choice(possible_steps)\n",
        "        self.model.grid.move_agent(self, new_position)\n",
        "\n",
        "    def give_money(self):\n",
        "        if self.wealth > 0:\n",
        "            cellmates = self.model.grid.get_cell_list_contents([self.pos])\n",
        "            if len(cellmates) > 1:\n",
        "                other_agent = self.random.choice(cellmates)\n",
        "                other_agent.wealth += 1\n",
        "                self.wealth -= 1\n",
        "\n",
        "\n",
        "class MoneyModel(mesa.Model):\n",
        "    \"\"\"A model with some number of agents.\"\"\"\n",
        "\n",
        "    def __init__(self, n, width, height,seed=None):\n",
        "        super().__init__(seed=seed)\n",
        "        self.num_agents = n\n",
        "        self.grid = mesa.space.MultiGrid(width, height, True)\n",
        "\n",
        "        # Create agents\n",
        "        for _ in range(self.num_agents):\n",
        "            a = MoneyAgent(self)\n",
        "            # Add the agent to a random grid cell\n",
        "            x = self.random.randrange(self.grid.width)\n",
        "            y = self.random.randrange(self.grid.height)\n",
        "            self.grid.place_agent(a, (x, y))\n",
        "\n",
        "        self.datacollector = mesa.DataCollector(\n",
        "            model_reporters={\"Gini\": compute_gini}, agent_reporters={\"Wealth\": \"wealth\"}\n",
        "        )\n",
        "\n",
        "    def step(self):\n",
        "        self.datacollector.collect(self)\n",
        "        self.agents.shuffle_do(\"move\")\n",
        "        self.agents.do(\"give_money\")"
      ]
    },
    {
      "cell_type": "markdown",
      "metadata": {
        "id": "O0g_YUzcDWlz"
      },
      "source": [
        "Then we set up our model object and run it for 20 steps"
      ]
    },
    {
      "cell_type": "code",
      "execution_count": 70,
      "metadata": {
        "id": "LRlYZO6qDWlz"
      },
      "outputs": [],
      "source": [
        "model = MoneyModel(100, 10, 10)\n",
        "for _ in range(20):\n",
        "    model.step()"
      ]
    },
    {
      "cell_type": "markdown",
      "metadata": {
        "id": "06jaKSs1DWlz"
      },
      "source": [
        "Then we plot our model result on the grid"
      ]
    },
    {
      "cell_type": "code",
      "execution_count": 71,
      "metadata": {
        "id": "d1RQBu59DWlz",
        "outputId": "cdfe896d-a0cb-437f-c718-1417d4f07570",
        "colab": {
          "base_uri": "https://localhost:8080/",
          "height": 468
        }
      },
      "outputs": [
        {
          "output_type": "display_data",
          "data": {
            "text/plain": [
              "<Figure size 500x500 with 1 Axes>"
            ],
            "image/png": "[encoded data removed]"
          },
          "metadata": {}
        }
      ],
      "source": [
        "agent_counts = np.zeros((model.grid.width, model.grid.height))\n",
        "for cell_content, (x, y) in model.grid.coord_iter():\n",
        "    agent_count = len(cell_content)\n",
        "    agent_counts[x][y] = agent_count\n",
        "# Plot using seaborn, with a visual size of 5x5\n",
        "g = sns.heatmap(agent_counts, cmap=\"viridis\", annot=True, cbar=False, square=True)\n",
        "g.figure.set_size_inches(5, 5)\n",
        "g.set(title=\"Number of agents on each cell of the grid\");"
      ]
    },
    {
      "cell_type": "markdown",
      "metadata": {
        "id": "w22JiftPDWlz"
      },
      "source": [
        "### Selecting\n",
        "\n",
        "**Model-specific Information:** For this variation of the model we are going to institute a policy that rich agents give money to poor agent\n",
        "\n",
        "**Code Implementation:** We will use `agents.select` to separate the agents into rich and poor agents. If there are rich agents then they are the only ones who give money."
      ]
    },
    {
      "cell_type": "code",
      "execution_count": null,
      "metadata": {
        "id": "mqj93knhDWlz"
      },
      "outputs": [],
      "source": [
        "class MoneyAgent(mesa.Agent):\n",
        "    \"\"\"An agent with fixed initial wealth.\"\"\"\n",
        "\n",
        "    def __init__(self, model):\n",
        "        super().__init__(model)\n",
        "        self.wealth = 1\n",
        "\n",
        "    def give_money(self, poor_agents):\n",
        "        if self.wealth > 0:\n",
        "            other_agent = self.random.choice(poor_agents)\n",
        "            other_agent.wealth += 1\n",
        "            self.wealth -= 1\n",
        "\n",
        "\n",
        "class MoneyModel(mesa.Model):\n",
        "    \"\"\"A model with some number of agents.\"\"\"\n",
        "\n",
        "    def __init__(self, n):\n",
        "        super().__init__()\n",
        "        self.num_agents = n\n",
        "\n",
        "        # Create agents\n",
        "        for _ in range(self.num_agents):\n",
        "            a = MoneyAgent(self)\n",
        "\n",
        "        self.datacollector = mesa.DataCollector(\n",
        "            model_reporters={\"Gini\": compute_gini}, agent_reporters={\"Wealth\": \"wealth\"}\n",
        "        )\n",
        "\n",
        "    def step(self):\n",
        "        self.datacollector.collect(self)\n",
        "        # Get lists of rich and poor agents\n",
        "        rich_agents = model.agents.select(lambda a: a.wealth >= 3)\n",
        "        poor_agents = model.agents.select(lambda a: a.wealth < 3)\n",
        "        # When there is rich agents only have them give money to the poor agents\n",
        "        if len(rich_agents) > 0:\n",
        "            rich_agents.shuffle_do(\"give_money\", poor_agents)\n",
        "        else:\n",
        "            poor_agents.shuffle_do(\"give_money\", poor_agents)"
      ]
    },
    {
      "cell_type": "markdown",
      "metadata": {
        "id": "PplXdvU5DWlz"
      },
      "source": [
        "We now run the model, collect the data, and plot the results."
      ]
    },
    {
      "cell_type": "code",
      "execution_count": null,
      "metadata": {
        "id": "VWLmnp4jDWl0"
      },
      "outputs": [],
      "source": [
        "model = MoneyModel(100)\n",
        "for _ in range(20):\n",
        "    model.step()\n",
        "\n",
        "\n",
        "data = model.datacollector.get_agent_vars_dataframe()\n",
        "# Use seaborn\n",
        "g = sns.histplot(data[\"Wealth\"], discrete=True)\n",
        "g.set(title=\"Wealth distribution\", xlabel=\"Wealth\", ylabel=\"number of agents\");"
      ]
    },
    {
      "cell_type": "markdown",
      "metadata": {
        "id": "OX6XgQG8DWl0"
      },
      "source": [
        "### Group By\n",
        "\n",
        "**Model-specific implementation:** In this case we will give agents an attribute of enthnicity of Green, Blue or Mixed. Green and Blue agents only give money to their ethnicity while Mixed can give money to anyone.\n",
        "\n",
        "**Code Implementation**: Using `groupby` we will execute the above logic in our code passing a list of grouped agents into our `give_money` function.  To ensure we can plot wealth by group we also need to add ethnicity to our datacollector."
      ]
    },
    {
      "cell_type": "code",
      "execution_count": null,
      "metadata": {
        "id": "eHRnEzSIDWl0"
      },
      "outputs": [],
      "source": [
        "class MoneyAgent(mesa.Agent):\n",
        "    \"\"\"An agent with fixed initial wealth.\"\"\"\n",
        "\n",
        "    def __init__(self, model, ethnicity):\n",
        "        super().__init__(model)\n",
        "        self.wealth = 1\n",
        "        self.ethnicity = ethnicity\n",
        "\n",
        "    def give_money(self, similars):\n",
        "        if self.wealth > 0:\n",
        "            other_agent = self.random.choice(similars)\n",
        "            other_agent.wealth += 1\n",
        "            self.wealth -= 1\n",
        "\n",
        "\n",
        "class MoneyModel(mesa.Model):\n",
        "    \"\"\"A model with some number of agents.\"\"\"\n",
        "\n",
        "    def __init__(self, n):\n",
        "        super().__init__()\n",
        "        self.num_agents = n\n",
        "\n",
        "        # Create a list of our different ethnicities\n",
        "        ethnicities = [\"Green\", \"Blue\", \"Mixed\"]\n",
        "\n",
        "        # Create agents\n",
        "        for _ in range(self.num_agents):\n",
        "            a = MoneyAgent(self, self.random.choice(ethnicities))\n",
        "\n",
        "        self.datacollector = mesa.DataCollector(\n",
        "            model_reporters={\"Gini\": compute_gini}, agent_reporters={\"Wealth\": \"wealth\", \"Ethnicity\":\"ethnicity\"}\n",
        "        )\n",
        "\n",
        "    def step(self):\n",
        "        self.datacollector.collect(self)\n",
        "        # groupby returns a dictionary of the different ethnicities with a list of agents\n",
        "        grouped_agents = grouped_agents = model.agents.groupby(\"ethnicity\")\n",
        "\n",
        "        for ethnic, similars in grouped_agents:\n",
        "            if ethnic != \"Mixed\":\n",
        "                similars.shuffle_do(\"give_money\", similars)\n",
        "            else:\n",
        "                similars.shuffle_do(\"give_money\", self.agents) # This allows mixed to trade with anyone\n",
        "\n"
      ]
    },
    {
      "cell_type": "code",
      "execution_count": null,
      "metadata": {
        "id": "9LydYggeDWl0"
      },
      "outputs": [],
      "source": [
        "# Run the model\n",
        "model = MoneyModel(100)\n",
        "for _ in range(20):\n",
        "    model.step()\n",
        "\n",
        "# get the data\n",
        "data = model.datacollector.get_agent_vars_dataframe()\n",
        "# assign histogram colors\n",
        "palette = {'Green': 'green', 'Blue': 'blue', 'Mixed': 'purple'}\n",
        "sns.histplot(data=data, x='Wealth', hue='Ethnicity',discrete=True, palette=palette)\n",
        "g.set(title=\"Wealth distribution\", xlabel=\"Wealth\", ylabel=\"number of agents\");"
      ]
    },
    {
      "cell_type": "markdown",
      "metadata": {
        "id": "G1pkEa5VDWl0"
      },
      "source": [
        "## Batch Run\n",
        "\n",
        "Like we mentioned above, you usually won't run a model only once, but multiple times, with fixed parameters to find the overall distributions the model generates, and with varying parameters to analyze how they drive the model's outputs and behaviors. This is commonly referred to as parameter sweeps. Instead of needing to write nested for-loops for each model, Mesa provides a [`batch_run`](https://github.com/projectmesa/mesa/blob/main/mesa/batchrunner.py) function which automates it for you.\n",
        "\n",
        "The batch runner also requires an additional variable `self.running` for the MoneyModel class. This variable enables conditional shut off of the model once a condition is met. In this example it will be set as True indefinitely."
      ]
    },
    {
      "cell_type": "markdown",
      "metadata": {
        "id": "xl4Zza0aDWl0"
      },
      "source": [
        "#### Additional agent reporter\n",
        "To make the results a little bit more interesting, we will also calculate the number of consecutive time steps an agent hasn't given any wealth as an agent reporter.\n",
        "\n",
        "This way we can see how data is handled when multiple reporters are used."
      ]
    },
    {
      "cell_type": "code",
      "execution_count": null,
      "metadata": {
        "id": "PDYxJW5lDWl0"
      },
      "outputs": [],
      "source": [
        "def compute_gini(model):\n",
        "    agent_wealths = [agent.wealth for agent in model.agents]\n",
        "    x = sorted(agent_wealths)\n",
        "    n = model.num_agents\n",
        "    B = sum(xi * (n - i) for i, xi in enumerate(x)) / (n * sum(x))\n",
        "    return 1 + (1 / n) - 2 * B\n",
        "\n",
        "\n",
        "class MoneyModel(mesa.Model):\n",
        "    \"\"\"A model with some number of agents.\"\"\"\n",
        "\n",
        "    def __init__(self, n, width, height, seed=None):\n",
        "        super().__init__(seed=seed)\n",
        "        self.num_agents = n\n",
        "        self.grid = mesa.space.MultiGrid(width, height, True)\n",
        "        self.running = True\n",
        "\n",
        "        # Create agents\n",
        "        for _ in range(self.num_agents):\n",
        "            a = MoneyAgent(self)\n",
        "            # Add the agent to a random grid cell\n",
        "            x = self.random.randrange(self.grid.width)\n",
        "            y = self.random.randrange(self.grid.height)\n",
        "            self.grid.place_agent(a, (x, y))\n",
        "\n",
        "        self.datacollector = mesa.DataCollector(\n",
        "            model_reporters={\"Gini\": compute_gini},\n",
        "            agent_reporters={\"Wealth\": \"wealth\", \"Steps_not_given\": \"steps_not_given\"},\n",
        "        )\n",
        "\n",
        "    def step(self):\n",
        "        self.datacollector.collect(self)\n",
        "        self.agents.shuffle_do(\"move\")\n",
        "        self.agents.shuffle_do(\"give_money\")\n",
        "\n",
        "\n",
        "class MoneyAgent(mesa.Agent):\n",
        "    \"\"\"An agent with fixed initial wealth.\"\"\"\n",
        "\n",
        "    def __init__(self, model):\n",
        "        super().__init__(model)\n",
        "        self.wealth = 1\n",
        "        self.steps_not_given = 0\n",
        "\n",
        "    def move(self):\n",
        "        possible_steps = self.model.grid.get_neighborhood(\n",
        "            self.pos, moore=True, include_center=False\n",
        "        )\n",
        "        new_position = self.random.choice(possible_steps)\n",
        "        self.model.grid.move_agent(self, new_position)\n",
        "\n",
        "    def give_money(self):\n",
        "        cellmates = self.model.grid.get_cell_list_contents([self.pos])\n",
        "        if len(cellmates) > 1:\n",
        "            other = self.random.choice(cellmates)\n",
        "            other.wealth += 1\n",
        "            self.wealth -= 1\n",
        "            self.steps_not_given = 0\n",
        "        else:\n",
        "            self.steps_not_given += 1"
      ]
    },
    {
      "cell_type": "markdown",
      "metadata": {
        "id": "hXwiwJcvDWl1"
      },
      "source": [
        "#### Batch run parameters\n",
        "\n",
        "We call `batch_run` with the following arguments:\n",
        "\n",
        "* `model_cls`\n",
        "  The model class that is used for the batch run.\n",
        "* `parameters`\n",
        "  A dictionary containing all the parameters of the model class and desired values to use for the batch run as key-value pairs. Each value can either be fixed ( e.g. `{\"height\": 10, \"width\": 10}`) or an iterable (e.g. `{\"n\": range(10, 500, 10)}`). `batch_run` will then generate all possible parameter combinations based on this dictionary and run the model `iterations` times for each combination.\n",
        "* `number_processes`\n",
        "  If not specified, defaults to 1. Set it to `None` to use all the available processors.\n",
        "  note: Multiprocessing does make debugging challenging. If your parameter sweeps are resulting in unexpected errors set `number_processes=1`.\n",
        "* `iterations`\n",
        "  The number of iterations to run each parameter combination for. Optional. If not specified, defaults to 1.\n",
        "* `data_collection_period`\n",
        "  The length of the period (number of steps) after which the model and agent reporters collect data. Optional. If not specified, defaults to -1, i.e. only at the end of each episode.\n",
        "* `max_steps`\n",
        "  The maximum number of time steps after which the model halts. An episode does either end when `self.running` of the model class is set to `False` or when `model.steps == max_steps` is reached. Optional. If not specified, defaults to 1000.\n",
        "* `display_progress`\n",
        "  Display the batch run progress. Optional. If not specified, defaults to `True`."
      ]
    },
    {
      "cell_type": "markdown",
      "metadata": {
        "id": "cHE7It5hDWl1"
      },
      "source": [
        "In the following example, we hold the height and width fixed, and vary the number of agents. We tell the batch runner to run 5 instantiations of the model with each number of agents, and to run each for 100 steps.\n",
        "\n",
        "We want to keep track of\n",
        "\n",
        "1. the Gini coefficient value at each time step, and\n",
        "2. the individual agent's wealth development and steps without giving money.\n",
        "\n",
        "**Important:** Since for the latter changes at each time step might be interesting, we set `data_collection_period=1`. By default, it only collects data at the end of each episode.\n",
        "\n",
        "note: The total number of runs is 245 (= 49 different populations * 5 iterations per population). However, the resulting list of dictionaries will be of length 6186250 (= 250 average agents per population * 49 different populations * 5 iterations per population * 101 steps per iteration)."
      ]
    },
    {
      "cell_type": "markdown",
      "metadata": {
        "id": "pENg2g2kDWl1"
      },
      "source": [
        "**note for Windows OS users:** If you are running this tutorial in Jupyter, make sure that you set `number_processes = 1` (single process). If `number_processes` is greater than 1, it is less straightforward to set up. You can read [Mesa's how-to guide](https://github.com/projectmesa/mesa/blob/main/docs/howto.md), in 'Using multi-process `batch_run` on Windows' section for how to do it."
      ]
    },
    {
      "cell_type": "code",
      "execution_count": null,
      "metadata": {
        "id": "-YCrWdrmDWl1"
      },
      "outputs": [],
      "source": [
        "params = {\"width\": 10, \"height\": 10, \"n\": range(5, 100, 5)}\n",
        "\n",
        "results = mesa.batch_run(\n",
        "    MoneyModel,\n",
        "    parameters=params,\n",
        "    iterations=7,\n",
        "    max_steps=100,\n",
        "    number_processes=1,\n",
        "    data_collection_period=1,\n",
        "    display_progress=True,\n",
        ")"
      ]
    },
    {
      "cell_type": "markdown",
      "metadata": {
        "id": "E6EVgfrSDWl1"
      },
      "source": [
        "To further analyze the return of the `batch_run` function, we convert the list of dictionaries to a Pandas DataFrame and print its keys."
      ]
    },
    {
      "cell_type": "markdown",
      "metadata": {
        "id": "Ob9zibIJDWl2"
      },
      "source": [
        "#### Batch Run Analysis and Visualization"
      ]
    },
    {
      "cell_type": "code",
      "execution_count": null,
      "metadata": {
        "id": "079hrn7CDWl2"
      },
      "outputs": [],
      "source": [
        "results_df = pd.DataFrame(results)\n",
        "print(results_df.keys())"
      ]
    },
    {
      "cell_type": "markdown",
      "metadata": {
        "id": "Z3w0See2DWl2"
      },
      "source": [
        "First, we want to take a closer look at how the Gini coefficient at the end of each episode changes as we increase the size of the population. For this, we filter our results to only contain the data of one agent (the Gini coefficient will be the same for the entire population at any time) at the 100th step of each episode and then scatter-plot the values for the Gini coefficient over the the number of agents. notice there are five values for each population size since we set `iterations=5` when calling the batch run."
      ]
    },
    {
      "cell_type": "code",
      "execution_count": null,
      "metadata": {
        "id": "SBLSYnKIDWl2"
      },
      "outputs": [],
      "source": [
        "# Filter the results to only contain the data of one agent (the Gini coefficient will be the same for the entire population at any time) at the 100th step of each episode\n",
        "results_filtered = results_df[(results_df.AgentID == 1) & (results_df.Step == 100)]\n",
        "results_filtered[[\"iteration\", \"n\", \"Gini\"]].reset_index(\n",
        "    drop=True\n",
        ").head()  # Create a scatter plot\n",
        "g = sns.scatterplot(data=results_filtered, x=\"n\", y=\"Gini\")\n",
        "g.set(\n",
        "    xlabel=\"number of agents\",\n",
        "    ylabel=\"Gini coefficient\",\n",
        "    title=\"Gini coefficient vs. number of agents\",\n",
        ");"
      ]
    },
    {
      "cell_type": "markdown",
      "metadata": {
        "collapsed": false,
        "jupyter": {
          "outputs_hidden": false
        },
        "id": "uXQkjPK0DWl2"
      },
      "source": [
        "We can create different kinds of plot from this filtered DataFrame. For example, a point plot with error bars."
      ]
    },
    {
      "cell_type": "code",
      "execution_count": null,
      "metadata": {
        "jupyter": {
          "outputs_hidden": false
        },
        "id": "g1lbuRLUDWl2"
      },
      "outputs": [],
      "source": [
        "# Create a point plot with error bars\n",
        "g = sns.pointplot(data=results_filtered, x=\"n\", y=\"Gini\", linestyle='None')\n",
        "g.figure.set_size_inches(8, 4)\n",
        "g.set(\n",
        "    xlabel=\"number of agents\",\n",
        "    ylabel=\"Gini coefficient\",\n",
        "    title=\"Gini coefficient vs. number of agents\",\n",
        ");"
      ]
    },
    {
      "cell_type": "markdown",
      "metadata": {
        "id": "XteYkHu8DWl2"
      },
      "source": [
        "Second, we want to display the agent's wealth at each time step of one specific episode. To do this, we again filter our large data frame, this time with a fixed number of agents and only for a specific iteration of that population.\n",
        "To print the results, we convert the filtered data frame to a string specifying the desired columns to print.\n",
        "\n",
        "Pandas has built-in functions to convert to a lot of different data formats. For example, to display as a table in a Jupyter notebook, we can use the `to_html()` function which takes the same arguments as `to_string()` (see commented lines)."
      ]
    },
    {
      "cell_type": "code",
      "execution_count": null,
      "metadata": {
        "id": "YYpdu3jXDWl2"
      },
      "outputs": [],
      "source": [
        "# First, we filter the results\n",
        "one_episode_wealth = results_df[(results_df.n == 10) & (results_df.iteration == 2)]\n",
        "# Then, print the columns of interest of the filtered data frame\n",
        "print(\n",
        "    one_episode_wealth.to_string(\n",
        "        index=False, columns=[\"Step\", \"AgentID\", \"Wealth\"], max_rows=10\n",
        "    )\n",
        ")\n",
        "# For a prettier display we can also convert the data frame to html, uncomment to test in a Jupyter notebook\n",
        "# from IPython.display import display, HTML\n",
        "# display(HTML(one_episode_wealth.to_html(index=False, columns=['Step', 'AgentID', 'Wealth'], max_rows=25)))"
      ]
    },
    {
      "cell_type": "markdown",
      "metadata": {
        "id": "-CXcbIzbDWl3"
      },
      "source": [
        "Lastly, we want to take a look at the development of the Gini coefficient over the course of one iteration. Filtering and printing looks almost the same as above, only this time we choose a different episode."
      ]
    },
    {
      "cell_type": "code",
      "execution_count": null,
      "metadata": {
        "id": "4Uy_Oev4DWl3"
      },
      "outputs": [],
      "source": [
        "results_one_episode = results_df[\n",
        "    (results_df.n == 10) & (results_df.iteration == 1) & (results_df.AgentID == 1)\n",
        "]\n",
        "print(results_one_episode.to_string(index=False, columns=[\"Step\", \"Gini\"], max_rows=10))"
      ]
    },
    {
      "cell_type": "markdown",
      "metadata": {
        "collapsed": false,
        "jupyter": {
          "outputs_hidden": false
        },
        "id": "RRyslUOxDWl3"
      },
      "source": [
        "### Analyzing model reporters: Comparing 5 scenarios\n",
        "Other insights might be gathered when we compare the Gini coefficient of different scenarios. For example, we can compare the Gini coefficient of a population with 25 agents to the Gini coefficient of a population with 400 agents. While doing this, we increase the number of iterations to 25 to get a better estimate of the Gini coefficient for each population size and get usable error estimations.\n",
        "\n",
        "As we look varying the parameters to see the impact on model outcomes, it is critical to again point that users can set the random seed. Due to the often inherent randomness with ABMs the seed becomes crucial for:\n",
        "- **Reproducibility** - Being able to replicate the ABM results\n",
        "- **Sensitivity Analysis** - Identifying how sensitive/robust your model results are to random fluctuations\n",
        "\n",
        "Treating the seed as an additional parameter and running numerous scenarios allows us to see the impact of randomness on this model."
      ]
    },
    {
      "cell_type": "code",
      "execution_count": null,
      "metadata": {
        "jupyter": {
          "outputs_hidden": false
        },
        "id": "0CYrZV8DDWl3"
      },
      "outputs": [],
      "source": [
        "params = {\"seed\":None,\"width\": 10, \"height\": 10, \"n\": [5, 10, 20, 40, 80]}\n",
        "\n",
        "results_5s = mesa.batch_run(\n",
        "    MoneyModel,\n",
        "    parameters=params,\n",
        "    iterations=100,\n",
        "    max_steps=120,\n",
        "    number_processes=1,\n",
        "    data_collection_period=1,  # Important, otherwise the datacollector will only collect data of the last time step\n",
        "    display_progress=True,\n",
        ")\n",
        "\n",
        "results_5s_df = pd.DataFrame(results_5s)"
      ]
    },
    {
      "cell_type": "code",
      "execution_count": null,
      "metadata": {
        "jupyter": {
          "outputs_hidden": false
        },
        "id": "9Wqd67zWDWl3"
      },
      "outputs": [],
      "source": [
        "# Again filter the results to only contain the data of one agent (the Gini coefficient will be the same for the entire population at any time)\n",
        "results_5s_df_filtered = results_5s_df[(results_5s_df.AgentID == 1)]\n",
        "results_5s_df_filtered.head(3)"
      ]
    },
    {
      "cell_type": "code",
      "execution_count": null,
      "metadata": {
        "jupyter": {
          "outputs_hidden": false
        },
        "id": "XzOloN-nDWl3"
      },
      "outputs": [],
      "source": [
        "# Create a lineplot with error bars\n",
        "g = sns.lineplot(\n",
        "    data=results_5s_df,\n",
        "    x=\"Step\",\n",
        "    y=\"Gini\",\n",
        "    hue=\"n\",\n",
        "    errorbar=(\"ci\", 95),\n",
        "    palette=\"tab10\",\n",
        ")\n",
        "g.figure.set_size_inches(8, 4)\n",
        "plot_title = \"Gini coefficient for different population sizes\\n(mean over 100 runs, with 95% confidence interval)\"\n",
        "g.set(title=plot_title, ylabel=\"Gini coefficient\");"
      ]
    },
    {
      "cell_type": "markdown",
      "metadata": {
        "collapsed": false,
        "jupyter": {
          "outputs_hidden": false
        },
        "id": "qyoEa5PhDWl3"
      },
      "source": [
        "In this case it looks like the Gini coefficient increases slower for smaller populations. This can be because of different things, either because the Gini coefficient is a measure of inequality and the smaller the population, the more likely it is that the agents are all in the same wealth class, or because there are less interactions between agents in smaller populations, which means that the wealth of an agent is less likely to change."
      ]
    },
    {
      "cell_type": "code",
      "execution_count": null,
      "metadata": {
        "id": "j32H07k5DWl4"
      },
      "outputs": [],
      "source": [
        "# Challenge: Treat the seed as a parameter and see the impact on the Gini Coefficient.\n",
        "# You can also plot the seeds against the Gini Coefficient by changing the \"hue\" parameter in sns.lineplot function."
      ]
    },
    {
      "cell_type": "markdown",
      "metadata": {
        "collapsed": false,
        "jupyter": {
          "outputs_hidden": false
        },
        "id": "yoMNtKawDWl4"
      },
      "source": [
        "### Analyzing agent reporters: Comparing 5 scenarios\n",
        "From the agents we collected the wealth and the number of consecutive rounds without a transaction. We can compare the 5 different population sizes by plotting the average number of consecutive rounds without a transaction for each population size.\n",
        "\n",
        "Note that we're aggregating multiple times here: First we take the average of all agents for each single replication. Then we plot the averages for all replications, with the error band showing the 95% confidence interval of that first average (over all agents). So this error band is representing the uncertainty of the mean value of the number of consecutive rounds without a transaction for each population size."
      ]
    },
    {
      "cell_type": "code",
      "execution_count": null,
      "metadata": {
        "jupyter": {
          "outputs_hidden": false
        },
        "id": "bKU-GaX4DWl4"
      },
      "outputs": [],
      "source": [
        "# Calculate the mean of the wealth and the number of consecutive rounds for all agents in each episode\n",
        "agg_results_df = (\n",
        "    results_5s_df.groupby([\"iteration\", \"n\", \"Step\"])\n",
        "    .agg({\"Wealth\": \"mean\", \"Steps_not_given\": \"mean\"})\n",
        "    .reset_index()\n",
        ")\n",
        "agg_results_df.head(3)"
      ]
    },
    {
      "cell_type": "code",
      "execution_count": null,
      "metadata": {
        "jupyter": {
          "outputs_hidden": false
        },
        "id": "z290q2iJDWl4"
      },
      "outputs": [],
      "source": [
        "# Create a line plot with error bars\n",
        "g = sns.lineplot(\n",
        "    data=agg_results_df, x=\"Step\", y=\"Steps_not_given\", hue=\"n\", palette=\"tab10\"\n",
        ")\n",
        "g.figure.set_size_inches(8, 4)\n",
        "g.set(\n",
        "    title=\"Average number of consecutive rounds without a transaction for different population sizes\\n(mean with 95% confidence interval)\",\n",
        "    ylabel=\"Consecutive rounds without a transaction\",\n",
        ");"
      ]
    },
    {
      "cell_type": "markdown",
      "metadata": {
        "collapsed": false,
        "jupyter": {
          "outputs_hidden": false
        },
        "id": "VePafE48DWl4"
      },
      "source": [
        "It can be clearly seen that the lower the number of agents, the higher the number of consecutive rounds without a transaction. This is because the agents have fewer interactions with each other and therefore the wealth of an agent is less likely to change."
      ]
    },
    {
      "cell_type": "markdown",
      "metadata": {
        "collapsed": false,
        "jupyter": {
          "outputs_hidden": false
        },
        "id": "P90LgeKaDWl5"
      },
      "source": [
        "### General steps for analyzing results\n",
        "\n",
        "Many other analysis are possible based on the policies, scenarios and uncertainties that you might be interested in. In general, you can follow these steps to do your own analysis:\n",
        "\n",
        "1. Determine which metrics you want to analyse. Add these as model and agent reporters to the datacollector of your model.\n",
        "2. Determine the input parameters you want to vary. Add these as parameters to the batch_run function, using ranges or lists to test different values.\n",
        "3. Determine the hyperparameters of the batch_run function. Define the number of iterations, the number of processes, the number of steps, the data collection period, etc.\n",
        "4. Run the batch_run function and save the results.\n",
        "5. Transform, filter and aggregate the results to get the data you want to analyze. Make sure it's in long format, so that each row represents a single value.\n",
        "6. Choose a plot type, what to plot on the x and y axis, which columns to use for the hue. Seaborn also has an amazing [Example Gallery](https://seaborn.pydata.org/examples/index.html).\n",
        "7. Plot the data and analyze the results."
      ]
    },
    {
      "cell_type": "code",
      "execution_count": null,
      "metadata": {
        "id": "YGzpXUxUDWl5"
      },
      "outputs": [],
      "source": [
        "# Challenge update the model, conduct a batch run with a parameter sweep, and visualize your results"
      ]
    },
    {
      "cell_type": "markdown",
      "metadata": {
        "id": "fdCSWIUuDWl5"
      },
      "source": [
        "## Next Steps\n",
        "\n",
        "Check out the [visualization tutorial](https://mesa.readthedocs.io/latest/tutorials/visualization_tutorial.html) on how to build interactive dashboards for your models."
      ]
    },
    {
      "cell_type": "markdown",
      "metadata": {
        "id": "-VV9kgiYDWl5"
      },
      "source": [
        "## Happy Modeling!\n",
        "\n",
        "This document is a work in progress.  If you see any errors, exclusions or have any problems please contact [us](https://github.com/projectmesa/mesa/issues)."
      ]
    },
    {
      "cell_type": "markdown",
      "metadata": {
        "id": "uqkBeSTNDWl5"
      },
      "source": [
        "[Comer2014] Comer, Kenneth W. “Who Goes First? An Examination of the Impact of Activation on Outcome Behavior in AgentBased Models.” George Mason University, 2014. http://mars.gmu.edu/bitstream/handle/1920/9070/Comer_gmu_0883E_10539.pdf\n",
        "\n",
        "[Dragulescu2002] Drăgulescu, Adrian A., and Victor M. Yakovenko. “Statistical Mechanics of Money, Income, and Wealth: A Short Survey.” arXiv Preprint Cond-mat/0211175, 2002. http://arxiv.org/abs/cond-mat/0211175."
      ]
    }
  ],
  "metadata": {
    "anaconda-cloud": {},
    "kernelspec": {
      "display_name": "Python 3 (ipykernel)",
      "language": "python",
      "name": "python3"
    },
    "language_info": {
      "codemirror_mode": {
        "name": "ipython",
        "version": 3
      },
      "file_extension": ".py",
      "mimetype": "text/x-python",
      "name": "python",
      "nbconvert_exporter": "python",
      "pygments_lexer": "ipython3",
      "version": "3.12.5"
    },
    "colab": {
      "provenance": [],
      "toc_visible": true
    }
  },
  "nbformat": 4,
  "nbformat_minor": 0
}